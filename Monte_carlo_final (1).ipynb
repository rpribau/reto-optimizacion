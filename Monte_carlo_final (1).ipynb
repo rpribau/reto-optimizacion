{
 "cells": [
  {
   "cell_type": "code",
   "execution_count": 50,
   "metadata": {
    "id": "u2e4oSFYFQQp"
   },
   "outputs": [],
   "source": [
    "import numpy as np\n",
    "import pandas as pd\n",
    "import random"
   ]
  },
  {
   "cell_type": "markdown",
   "metadata": {
    "id": "c3AlURQUFQQs"
   },
   "source": [
    "# Salsa Verdes."
   ]
  },
  {
   "cell_type": "code",
   "execution_count": 51,
   "metadata": {
    "id": "Ipn9qWPrFQQt"
   },
   "outputs": [],
   "source": [
    "class Dia:\n",
    "    def __init__(self, id_dia: int, id_experimento: int, pedidos: float):\n",
    "        self.id_dia = id_dia\n",
    "        self.id_experimento = id_experimento\n",
    "        self.pedidos = pedidos\n",
    "\n",
    "    def __repr__(self):\n",
    "        return f\"Dia(id_dia={self.id_dia}, id_experimento={self.id_experimento}, pedidos={self.pedidos})\""
   ]
  },
  {
   "cell_type": "code",
   "execution_count": 52,
   "metadata": {
    "id": "lu_cLAsMFQQt"
   },
   "outputs": [],
   "source": [
    "class SimulacionMonteCarlo:\n",
    "    def __init__(self):\n",
    "        self.lista_de_pedidos = []\n",
    "\n",
    "    def generar_valores_aleatorios(self,limite_inferior: float, limite_superior: float, número_de_dias: int, total_experimentos: int):\n",
    "        lista_salida = []\n",
    "\n",
    "        for i in range(total_experimentos):\n",
    "            for j in range(número_de_dias):\n",
    "                valor =  limite_inferior + random.random() * (limite_superior - limite_inferior)\n",
    "                dia = Dia(j, i, valor)\n",
    "                lista_salida.append(dia)\n",
    "\n",
    "        return lista_salida\n",
    "\n",
    "    def calcular_valores_media_varianza(self,lista_entrada, total_experimentos, seleccionado):\n",
    "\n",
    "        suma_parcial = 0\n",
    "        lista_parcial = []\n",
    "        suma=0\n",
    "        contador=0\n",
    "        lista_dias=[]\n",
    "\n",
    "        for i in range(total_experimentos):\n",
    "\n",
    "            lista_filtrada = [dia for dia in lista_entrada if dia.id_experimento == i]\n",
    "\n",
    "            if lista_filtrada:\n",
    "\n",
    "                lista_filtrada.sort(key=lambda x: x.pedidos)\n",
    "\n",
    "                # se selecciona el pedido del cliente\n",
    "                dia_seleccionado = lista_filtrada[seleccionado]\n",
    "                lista_parcial.append(dia_seleccionado)\n",
    "                suma_parcial += dia_seleccionado.pedidos\n",
    "                lista_dias.append(dia_seleccionado.pedidos)\n",
    "\n",
    "        media = suma_parcial / total_experimentos if total_experimentos > 0 else 0\n",
    "\n",
    "        # Calcular la varianza\n",
    "        for dia in lista_parcial:\n",
    "            suma = suma+ (dia.pedidos) ** 2\n",
    "            contador +=1\n",
    "        varianza= suma / (contador * (contador - 1)) - (media**2) / (contador - 1)\n",
    "\n",
    "        return media, varianza,lista_dias\n",
    "\n",
    "    def monte_carlo(self, limite_inferior: float, limite_superior: float, número_de_clientes: int, total_experimentos: int, seleccionado: int):\n",
    "        self.lista_clientes = self.generar_valores_aleatorios(limite_inferior, limite_superior, número_de_clientes, total_experimentos)\n",
    "        media, varianza,lista_parcial = self.calcular_valores_media_varianza(self.lista_clientes, total_experimentos, seleccionado)\n",
    "\n",
    "        return [media, varianza,lista_parcial]\n",
    "\n",
    "\n"
   ]
  },
  {
   "cell_type": "code",
   "execution_count": 53,
   "metadata": {
    "id": "KxaiPUNSFQQu"
   },
   "outputs": [],
   "source": [
    "def obtener_datos(limite_inferior,limite_superior,enfoque):\n",
    "    dias=5\n",
    "    total_experimentos=100\n",
    "    simulacion = SimulacionMonteCarlo()\n",
    "    resultado = simulacion.monte_carlo(limite_inferior, limite_superior, dias, total_experimentos, enfoque)\n",
    "    print(f\"Media: {resultado[0]}, Varianza: {resultado[1]}\")\n",
    "    return resultado[0]"
   ]
  },
  {
   "cell_type": "code",
   "execution_count": 54,
   "metadata": {
    "colab": {
     "base_uri": "https://localhost:8080/"
    },
    "id": "HR3gt-GSFQQu",
    "outputId": "1714c5fc-5dfd-43cc-efa0-aa84679a5d9f"
   },
   "outputs": [
    {
     "name": "stdout",
     "output_type": "stream",
     "text": [
      "Media: 87.28718330327159, Varianza: 0.321130807989519\n",
      "Media: 86.12198458516909, Varianza: 0.23659628688487544\n",
      "Media: 100.26374822903765, Varianza: 0.4846418681479747\n",
      "Media: 114.34472499983984, Varianza: 0.22053861104933503\n",
      "Media: 112.89878844422536, Varianza: 0.3684865611713235\n"
     ]
    }
   ],
   "source": [
    "numero_de_dias=5\n",
    "demandas_salsa_mediana_verde= []\n",
    "for i in range(numero_de_dias):\n",
    "    if i <=1:\n",
    "        limite_inferior=80.0\n",
    "        limite_superior=120.0\n",
    "        enfoque= 0\n",
    "        valor=obtener_datos(limite_inferior,limite_superior,enfoque)\n",
    "        demandas_salsa_mediana_verde.append(valor)\n",
    "\n",
    "    if i == 2:\n",
    "\n",
    "        enfoque= 2 # pesimista, optimisita es el que agarras volado. #0 peor, 4 mejor , 2 en medio\n",
    "        valor=obtener_datos(limite_inferior,limite_superior,enfoque)\n",
    "        demandas_salsa_mediana_verde.append(valor)\n",
    "\n",
    "\n",
    "    if i<= 4 and i>2:\n",
    "\n",
    "        enfoque= 4 # pesimista, optimisita es el que agarras volado. #0 peor, 4 mejor , 2 en medio\n",
    "        valor=obtener_datos(limite_inferior,limite_superior,enfoque)\n",
    "        demandas_salsa_mediana_verde.append(valor)\n",
    "#print(resultado[2])\n"
   ]
  },
  {
   "cell_type": "code",
   "execution_count": 55,
   "metadata": {
    "colab": {
     "base_uri": "https://localhost:8080/"
    },
    "id": "LkaiQNV3FQQv",
    "outputId": "379dd124-6546-448d-828e-42196f7db99f"
   },
   "outputs": [
    {
     "data": {
      "text/plain": [
       "[87.28718330327159,\n",
       " 86.12198458516909,\n",
       " 100.26374822903765,\n",
       " 114.34472499983984,\n",
       " 112.89878844422536]"
      ]
     },
     "execution_count": 55,
     "metadata": {},
     "output_type": "execute_result"
    }
   ],
   "source": [
    "demandas_salsa_mediana_verde"
   ]
  },
  {
   "cell_type": "code",
   "execution_count": 56,
   "metadata": {
    "colab": {
     "base_uri": "https://localhost:8080/"
    },
    "id": "a4YEzU6gFQQv",
    "outputId": "fed8c119-5fc2-4f7b-d650-ef384ff89785"
   },
   "outputs": [
    {
     "name": "stdout",
     "output_type": "stream",
     "text": [
      "Media: 107.04994819391246, Varianza: 0.3405387737351333\n",
      "Media: 106.50292611515762, Varianza: 0.27396463279963257\n",
      "Media: 120.08895884609377, Varianza: 0.40963094493130825\n",
      "Media: 134.40201280317598, Varianza: 0.21716396669657456\n",
      "Media: 133.6883975975439, Varianza: 0.23745990110668913\n"
     ]
    }
   ],
   "source": [
    "numero_de_dias=5\n",
    "demandas_salsa_chica_verde= []\n",
    "for i in range(numero_de_dias):\n",
    "    if i <=1:\n",
    "        limite_inferior=100.0\n",
    "        limite_superior=140.0\n",
    "        enfoque= 0\n",
    "        valor=obtener_datos(limite_inferior,limite_superior,enfoque)\n",
    "        demandas_salsa_chica_verde.append(valor)\n",
    "\n",
    "    if i == 2:\n",
    "\n",
    "        enfoque= 2 # pesimista, optimisita es el que agarras volado. #0 peor, 4 mejor , 2 en medio\n",
    "        valor=obtener_datos(limite_inferior,limite_superior,enfoque)\n",
    "        demandas_salsa_chica_verde.append(valor)\n",
    "\n",
    "\n",
    "    if i<= 4 and i>2:\n",
    "\n",
    "        enfoque= 4 # pesimista, optimisita es el que agarras volado. #0 peor, 4 mejor , 2 en medio\n",
    "        valor=obtener_datos(limite_inferior,limite_superior,enfoque)\n",
    "        demandas_salsa_chica_verde.append(valor)"
   ]
  },
  {
   "cell_type": "code",
   "execution_count": 57,
   "metadata": {
    "colab": {
     "base_uri": "https://localhost:8080/"
    },
    "id": "czvPui5GFQQw",
    "outputId": "e15f2d7d-b393-49e4-838c-8105291e0fbb"
   },
   "outputs": [
    {
     "data": {
      "text/plain": [
       "[107.04994819391246,\n",
       " 106.50292611515762,\n",
       " 120.08895884609377,\n",
       " 134.40201280317598,\n",
       " 133.6883975975439]"
      ]
     },
     "execution_count": 57,
     "metadata": {},
     "output_type": "execute_result"
    }
   ],
   "source": [
    "demandas_salsa_chica_verde"
   ]
  },
  {
   "cell_type": "code",
   "execution_count": 58,
   "metadata": {
    "colab": {
     "base_uri": "https://localhost:8080/"
    },
    "id": "bIsNepPVFQQw",
    "outputId": "ade1f5e3-5e29-4afb-9715-5a20bb00bda5"
   },
   "outputs": [
    {
     "name": "stdout",
     "output_type": "stream",
     "text": [
      "Media: 66.0014224636817, Varianza: 0.24909047527265216\n",
      "Media: 66.07501657228907, Varianza: 0.31951002624263936\n",
      "Media: 79.19356439772912, Varianza: 0.5536015717068352\n",
      "Media: 93.44712319705684, Varianza: 0.28389209894668\n",
      "Media: 92.83619513097803, Varianza: 0.3515904454020955\n"
     ]
    }
   ],
   "source": [
    "numero_de_dias=5\n",
    "demandas_salsa_grande_verde= []\n",
    "for i in range(numero_de_dias):\n",
    "    if i <=1:\n",
    "        limite_inferior=60.0\n",
    "        limite_superior=100.0\n",
    "        enfoque= 0\n",
    "        valor=obtener_datos(limite_inferior,limite_superior,enfoque)\n",
    "        demandas_salsa_grande_verde.append(valor)\n",
    "\n",
    "    if i == 2:\n",
    "\n",
    "        enfoque= 2 # pesimista, optimisita es el que agarras volado. #0 peor, 4 mejor , 2 en medio\n",
    "        valor=obtener_datos(limite_inferior,limite_superior,enfoque)\n",
    "        demandas_salsa_grande_verde.append(valor)\n",
    "\n",
    "\n",
    "    if i<= 4 and i>2:\n",
    "\n",
    "        enfoque= 4 # pesimista, optimisita es el que agarras volado. #0 peor, 4 mejor , 2 en medio\n",
    "        valor=obtener_datos(limite_inferior,limite_superior,enfoque)\n",
    "        demandas_salsa_grande_verde.append(valor)"
   ]
  },
  {
   "cell_type": "code",
   "execution_count": 59,
   "metadata": {
    "colab": {
     "base_uri": "https://localhost:8080/"
    },
    "id": "0WFWzIt-FQQw",
    "outputId": "e9613c5f-ed3f-4eff-f18a-63b6676ed471"
   },
   "outputs": [
    {
     "data": {
      "text/plain": [
       "[66.0014224636817,\n",
       " 66.07501657228907,\n",
       " 79.19356439772912,\n",
       " 93.44712319705684,\n",
       " 92.83619513097803]"
      ]
     },
     "execution_count": 59,
     "metadata": {},
     "output_type": "execute_result"
    }
   ],
   "source": [
    "demandas_salsa_grande_verde"
   ]
  },
  {
   "cell_type": "code",
   "execution_count": 60,
   "metadata": {
    "colab": {
     "base_uri": "https://localhost:8080/",
     "height": 206
    },
    "id": "2UuLFSSlFQQx",
    "outputId": "1b3dc69f-1201-4fa7-814b-1e3c7580c169"
   },
   "outputs": [
    {
     "data": {
      "text/html": [
       "<div>\n",
       "<style scoped>\n",
       "    .dataframe tbody tr th:only-of-type {\n",
       "        vertical-align: middle;\n",
       "    }\n",
       "\n",
       "    .dataframe tbody tr th {\n",
       "        vertical-align: top;\n",
       "    }\n",
       "\n",
       "    .dataframe thead th {\n",
       "        text-align: right;\n",
       "    }\n",
       "</style>\n",
       "<table border=\"1\" class=\"dataframe\">\n",
       "  <thead>\n",
       "    <tr style=\"text-align: right;\">\n",
       "      <th></th>\n",
       "      <th>Tamaño chico verde</th>\n",
       "      <th>Tamaño mediano verde</th>\n",
       "      <th>Tamaño grande verde</th>\n",
       "    </tr>\n",
       "  </thead>\n",
       "  <tbody>\n",
       "    <tr>\n",
       "      <th>0</th>\n",
       "      <td>107.049948</td>\n",
       "      <td>87.287183</td>\n",
       "      <td>66.001422</td>\n",
       "    </tr>\n",
       "    <tr>\n",
       "      <th>1</th>\n",
       "      <td>106.502926</td>\n",
       "      <td>86.121985</td>\n",
       "      <td>66.075017</td>\n",
       "    </tr>\n",
       "    <tr>\n",
       "      <th>2</th>\n",
       "      <td>120.088959</td>\n",
       "      <td>100.263748</td>\n",
       "      <td>79.193564</td>\n",
       "    </tr>\n",
       "    <tr>\n",
       "      <th>3</th>\n",
       "      <td>134.402013</td>\n",
       "      <td>114.344725</td>\n",
       "      <td>93.447123</td>\n",
       "    </tr>\n",
       "    <tr>\n",
       "      <th>4</th>\n",
       "      <td>133.688398</td>\n",
       "      <td>112.898788</td>\n",
       "      <td>92.836195</td>\n",
       "    </tr>\n",
       "  </tbody>\n",
       "</table>\n",
       "</div>"
      ],
      "text/plain": [
       "   Tamaño chico verde  Tamaño mediano verde  Tamaño grande verde\n",
       "0          107.049948             87.287183            66.001422\n",
       "1          106.502926             86.121985            66.075017\n",
       "2          120.088959            100.263748            79.193564\n",
       "3          134.402013            114.344725            93.447123\n",
       "4          133.688398            112.898788            92.836195"
      ]
     },
     "execution_count": 60,
     "metadata": {},
     "output_type": "execute_result"
    }
   ],
   "source": [
    "df = pd.DataFrame({\n",
    "    'Tamaño chico verde': demandas_salsa_chica_verde,\n",
    "    'Tamaño mediano verde': demandas_salsa_mediana_verde,\n",
    "    'Tamaño grande verde': demandas_salsa_grande_verde\n",
    "})\n",
    "df\n"
   ]
  },
  {
   "cell_type": "markdown",
   "metadata": {
    "id": "n6Rh1RLbFQQx"
   },
   "source": [
    "Se obtuvo después de 10,000 iteraciones una demanda media por dia de 59.978 y una desviación estandar de 0.34656568156507167 esto representa un indicador del error que podemos estar cometiendo desv estandar de Sn."
   ]
  },
  {
   "cell_type": "markdown",
   "metadata": {
    "id": "yUyLW22HFQQx"
   },
   "source": [
    "# Salsa Roja"
   ]
  },
  {
   "cell_type": "code",
   "execution_count": 61,
   "metadata": {
    "colab": {
     "base_uri": "https://localhost:8080/"
    },
    "id": "GQtsPaWlFQQx",
    "outputId": "4208c44d-7126-4ad3-b89a-4f1b6f0bf461"
   },
   "outputs": [
    {
     "name": "stdout",
     "output_type": "stream",
     "text": [
      "Media: 32.92742674875469, Varianza: 0.07884266572142273\n",
      "Media: 33.08474414074951, Varianza: 0.05612336460437817\n",
      "Media: 40.003726204188546, Varianza: 0.15565462452444834\n",
      "Media: 46.91385359235178, Varianza: 0.09076011414426333\n",
      "Media: 46.45191643370423, Varianza: 0.0860353464948247\n"
     ]
    }
   ],
   "source": [
    "numero_de_dias=5\n",
    "demandas_salsa_grande_roja= []\n",
    "for i in range(numero_de_dias):\n",
    "    if i <=1:\n",
    "        limite_inferior=30.0\n",
    "        limite_superior=50.0\n",
    "        enfoque= 0\n",
    "        valor=obtener_datos(limite_inferior,limite_superior,enfoque)\n",
    "        demandas_salsa_grande_roja.append(valor)\n",
    "\n",
    "    if i == 2:\n",
    "\n",
    "        enfoque= 2 # pesimista, optimisita es el que agarras volado. #0 peor, 4 mejor , 2 en medio\n",
    "        valor=obtener_datos(limite_inferior,limite_superior,enfoque)\n",
    "        demandas_salsa_grande_roja.append(valor)\n",
    "\n",
    "\n",
    "    if i<= 4 and i>2:\n",
    "\n",
    "        enfoque= 4 # pesimista, optimisita es el que agarras volado. #0 peor, 4 mejor , 2 en medio\n",
    "        valor=obtener_datos(limite_inferior,limite_superior,enfoque)\n",
    "        demandas_salsa_grande_roja.append(valor)"
   ]
  },
  {
   "cell_type": "code",
   "execution_count": 62,
   "metadata": {
    "colab": {
     "base_uri": "https://localhost:8080/"
    },
    "id": "o20dYzcdFQQx",
    "outputId": "90f32875-5593-4a41-f4f2-ec88db98b454"
   },
   "outputs": [
    {
     "data": {
      "text/plain": [
       "[32.92742674875469,\n",
       " 33.08474414074951,\n",
       " 40.003726204188546,\n",
       " 46.91385359235178,\n",
       " 46.45191643370423]"
      ]
     },
     "execution_count": 62,
     "metadata": {},
     "output_type": "execute_result"
    }
   ],
   "source": [
    "demandas_salsa_grande_roja"
   ]
  },
  {
   "cell_type": "code",
   "execution_count": 63,
   "metadata": {
    "colab": {
     "base_uri": "https://localhost:8080/"
    },
    "id": "gJPSLExdFQQx",
    "outputId": "2a41338b-033f-4cc0-9e30-d03fe7d21229"
   },
   "outputs": [
    {
     "name": "stdout",
     "output_type": "stream",
     "text": [
      "Media: 43.48674284962378, Varianza: 0.09400943797162142\n",
      "Media: 43.09107164298904, Varianza: 0.06198773558727311\n",
      "Media: 50.17780940493049, Varianza: 0.15674713285954667\n",
      "Media: 56.551977865753855, Varianza: 0.08137844441493058\n",
      "Media: 56.92609194437598, Varianza: 0.07276538505373509\n"
     ]
    }
   ],
   "source": [
    "numero_de_dias=5\n",
    "demandas_salsa_mediana_roja= []\n",
    "for i in range(numero_de_dias):\n",
    "    if i <=1:\n",
    "        limite_inferior=40.0\n",
    "        limite_superior=60.0\n",
    "        enfoque= 0\n",
    "        valor=obtener_datos(limite_inferior,limite_superior,enfoque)\n",
    "        demandas_salsa_mediana_roja.append(valor)\n",
    "\n",
    "    if i == 2:\n",
    "\n",
    "        enfoque= 2 # pesimista, optimisita es el que agarras volado. #0 peor, 4 mejor , 2 en medio\n",
    "        valor=obtener_datos(limite_inferior,limite_superior,enfoque)\n",
    "        demandas_salsa_mediana_roja.append(valor)\n",
    "\n",
    "\n",
    "    if i<= 4 and i>2:\n",
    "\n",
    "        enfoque= 4 # pesimista, optimisita es el que agarras volado. #0 peor, 4 mejor , 2 en medio\n",
    "        valor=obtener_datos(limite_inferior,limite_superior,enfoque)\n",
    "        demandas_salsa_mediana_roja.append(valor)"
   ]
  },
  {
   "cell_type": "code",
   "execution_count": 64,
   "metadata": {
    "colab": {
     "base_uri": "https://localhost:8080/"
    },
    "id": "clNiQtwCFQQy",
    "outputId": "72952e37-eef1-456e-c7f1-b94eae883a53"
   },
   "outputs": [
    {
     "name": "stdout",
     "output_type": "stream",
     "text": [
      "Media: 53.56742566877808, Varianza: 0.09986050834118743\n",
      "Media: 53.1376077914755, Varianza: 0.08387908013794387\n",
      "Media: 59.8613090747197, Varianza: 0.16407001710799562\n",
      "Media: 66.65906803598199, Varianza: 0.09628230145877836\n",
      "Media: 66.45600384133414, Varianza: 0.09399994000646927\n"
     ]
    }
   ],
   "source": [
    "numero_de_dias=5\n",
    "demandas_salsa_chica_roja= []\n",
    "for i in range(numero_de_dias):\n",
    "    if i <=1:\n",
    "        limite_inferior=50.0\n",
    "        limite_superior=70.0\n",
    "        enfoque= 0\n",
    "        valor=obtener_datos(limite_inferior,limite_superior,enfoque)\n",
    "        demandas_salsa_chica_roja.append(valor)\n",
    "\n",
    "    if i == 2:\n",
    "\n",
    "        enfoque= 2 # pesimista, optimisita es el que agarras volado. #0 peor, 4 mejor , 2 en medio\n",
    "        valor=obtener_datos(limite_inferior,limite_superior,enfoque)\n",
    "        demandas_salsa_chica_roja.append(valor)\n",
    "\n",
    "\n",
    "    if i<= 4 and i>2:\n",
    "\n",
    "        enfoque= 4 # pesimista, optimisita es el que agarras volado. #0 peor, 4 mejor , 2 en medio\n",
    "        valor=obtener_datos(limite_inferior,limite_superior,enfoque)\n",
    "        demandas_salsa_chica_roja.append(valor)"
   ]
  },
  {
   "cell_type": "code",
   "execution_count": 65,
   "metadata": {
    "colab": {
     "base_uri": "https://localhost:8080/"
    },
    "id": "7Uo7DPUHFQQy",
    "outputId": "a95b21f0-35f5-44e0-a195-348c5b6c9c4b"
   },
   "outputs": [
    {
     "data": {
      "text/plain": [
       "[53.56742566877808,\n",
       " 53.1376077914755,\n",
       " 59.8613090747197,\n",
       " 66.65906803598199,\n",
       " 66.45600384133414]"
      ]
     },
     "execution_count": 65,
     "metadata": {},
     "output_type": "execute_result"
    }
   ],
   "source": [
    "demandas_salsa_chica_roja"
   ]
  },
  {
   "cell_type": "code",
   "execution_count": 66,
   "metadata": {
    "colab": {
     "base_uri": "https://localhost:8080/",
     "height": 206
    },
    "id": "7t9tsyzQFQQy",
    "outputId": "6fbbba8c-7a93-444e-896f-bf4665bccfb5"
   },
   "outputs": [
    {
     "data": {
      "text/html": [
       "<div>\n",
       "<style scoped>\n",
       "    .dataframe tbody tr th:only-of-type {\n",
       "        vertical-align: middle;\n",
       "    }\n",
       "\n",
       "    .dataframe tbody tr th {\n",
       "        vertical-align: top;\n",
       "    }\n",
       "\n",
       "    .dataframe thead th {\n",
       "        text-align: right;\n",
       "    }\n",
       "</style>\n",
       "<table border=\"1\" class=\"dataframe\">\n",
       "  <thead>\n",
       "    <tr style=\"text-align: right;\">\n",
       "      <th></th>\n",
       "      <th>Tamaño chico roja</th>\n",
       "      <th>Tamaño mediano roja</th>\n",
       "      <th>Tamaño grande roja</th>\n",
       "    </tr>\n",
       "  </thead>\n",
       "  <tbody>\n",
       "    <tr>\n",
       "      <th>0</th>\n",
       "      <td>53.567426</td>\n",
       "      <td>43.486743</td>\n",
       "      <td>32.927427</td>\n",
       "    </tr>\n",
       "    <tr>\n",
       "      <th>1</th>\n",
       "      <td>53.137608</td>\n",
       "      <td>43.091072</td>\n",
       "      <td>33.084744</td>\n",
       "    </tr>\n",
       "    <tr>\n",
       "      <th>2</th>\n",
       "      <td>59.861309</td>\n",
       "      <td>50.177809</td>\n",
       "      <td>40.003726</td>\n",
       "    </tr>\n",
       "    <tr>\n",
       "      <th>3</th>\n",
       "      <td>66.659068</td>\n",
       "      <td>56.551978</td>\n",
       "      <td>46.913854</td>\n",
       "    </tr>\n",
       "    <tr>\n",
       "      <th>4</th>\n",
       "      <td>66.456004</td>\n",
       "      <td>56.926092</td>\n",
       "      <td>46.451916</td>\n",
       "    </tr>\n",
       "  </tbody>\n",
       "</table>\n",
       "</div>"
      ],
      "text/plain": [
       "   Tamaño chico roja  Tamaño mediano roja  Tamaño grande roja\n",
       "0          53.567426            43.486743           32.927427\n",
       "1          53.137608            43.091072           33.084744\n",
       "2          59.861309            50.177809           40.003726\n",
       "3          66.659068            56.551978           46.913854\n",
       "4          66.456004            56.926092           46.451916"
      ]
     },
     "execution_count": 66,
     "metadata": {},
     "output_type": "execute_result"
    }
   ],
   "source": [
    "df2 = pd.DataFrame({\n",
    "    'Tamaño chico roja': demandas_salsa_chica_roja,\n",
    "    'Tamaño mediano roja': demandas_salsa_mediana_roja,\n",
    "    'Tamaño grande roja': demandas_salsa_grande_roja\n",
    "})\n",
    "df2"
   ]
  },
  {
   "cell_type": "code",
   "execution_count": 67,
   "metadata": {
    "colab": {
     "base_uri": "https://localhost:8080/",
     "height": 206
    },
    "id": "4B3FlMHUFQQy",
    "outputId": "bd545b81-b25e-4313-a6e2-45233cd88873"
   },
   "outputs": [
    {
     "data": {
      "text/html": [
       "<div>\n",
       "<style scoped>\n",
       "    .dataframe tbody tr th:only-of-type {\n",
       "        vertical-align: middle;\n",
       "    }\n",
       "\n",
       "    .dataframe tbody tr th {\n",
       "        vertical-align: top;\n",
       "    }\n",
       "\n",
       "    .dataframe thead th {\n",
       "        text-align: right;\n",
       "    }\n",
       "</style>\n",
       "<table border=\"1\" class=\"dataframe\">\n",
       "  <thead>\n",
       "    <tr style=\"text-align: right;\">\n",
       "      <th></th>\n",
       "      <th>Tamaño chico verde</th>\n",
       "      <th>Tamaño mediano verde</th>\n",
       "      <th>Tamaño grande verde</th>\n",
       "      <th>Tamaño chico roja</th>\n",
       "      <th>Tamaño mediano roja</th>\n",
       "      <th>Tamaño grande roja</th>\n",
       "    </tr>\n",
       "  </thead>\n",
       "  <tbody>\n",
       "    <tr>\n",
       "      <th>0</th>\n",
       "      <td>107.049948</td>\n",
       "      <td>87.287183</td>\n",
       "      <td>66.001422</td>\n",
       "      <td>53.567426</td>\n",
       "      <td>43.486743</td>\n",
       "      <td>32.927427</td>\n",
       "    </tr>\n",
       "    <tr>\n",
       "      <th>1</th>\n",
       "      <td>106.502926</td>\n",
       "      <td>86.121985</td>\n",
       "      <td>66.075017</td>\n",
       "      <td>53.137608</td>\n",
       "      <td>43.091072</td>\n",
       "      <td>33.084744</td>\n",
       "    </tr>\n",
       "    <tr>\n",
       "      <th>2</th>\n",
       "      <td>120.088959</td>\n",
       "      <td>100.263748</td>\n",
       "      <td>79.193564</td>\n",
       "      <td>59.861309</td>\n",
       "      <td>50.177809</td>\n",
       "      <td>40.003726</td>\n",
       "    </tr>\n",
       "    <tr>\n",
       "      <th>3</th>\n",
       "      <td>134.402013</td>\n",
       "      <td>114.344725</td>\n",
       "      <td>93.447123</td>\n",
       "      <td>66.659068</td>\n",
       "      <td>56.551978</td>\n",
       "      <td>46.913854</td>\n",
       "    </tr>\n",
       "    <tr>\n",
       "      <th>4</th>\n",
       "      <td>133.688398</td>\n",
       "      <td>112.898788</td>\n",
       "      <td>92.836195</td>\n",
       "      <td>66.456004</td>\n",
       "      <td>56.926092</td>\n",
       "      <td>46.451916</td>\n",
       "    </tr>\n",
       "  </tbody>\n",
       "</table>\n",
       "</div>"
      ],
      "text/plain": [
       "   Tamaño chico verde  Tamaño mediano verde  Tamaño grande verde  \\\n",
       "0          107.049948             87.287183            66.001422   \n",
       "1          106.502926             86.121985            66.075017   \n",
       "2          120.088959            100.263748            79.193564   \n",
       "3          134.402013            114.344725            93.447123   \n",
       "4          133.688398            112.898788            92.836195   \n",
       "\n",
       "   Tamaño chico roja  Tamaño mediano roja  Tamaño grande roja  \n",
       "0          53.567426            43.486743           32.927427  \n",
       "1          53.137608            43.091072           33.084744  \n",
       "2          59.861309            50.177809           40.003726  \n",
       "3          66.659068            56.551978           46.913854  \n",
       "4          66.456004            56.926092           46.451916  "
      ]
     },
     "execution_count": 67,
     "metadata": {},
     "output_type": "execute_result"
    }
   ],
   "source": [
    "df_combined = pd.concat([df, df2], axis=1)\n",
    "df_combined"
   ]
  },
  {
   "cell_type": "code",
   "execution_count": 68,
   "metadata": {
    "colab": {
     "base_uri": "https://localhost:8080/",
     "height": 206
    },
    "id": "pWJp1-HuFQQy",
    "outputId": "0fc9cc25-75ba-4c57-d111-14c16196467a"
   },
   "outputs": [
    {
     "data": {
      "text/html": [
       "<div>\n",
       "<style scoped>\n",
       "    .dataframe tbody tr th:only-of-type {\n",
       "        vertical-align: middle;\n",
       "    }\n",
       "\n",
       "    .dataframe tbody tr th {\n",
       "        vertical-align: top;\n",
       "    }\n",
       "\n",
       "    .dataframe thead th {\n",
       "        text-align: right;\n",
       "    }\n",
       "</style>\n",
       "<table border=\"1\" class=\"dataframe\">\n",
       "  <thead>\n",
       "    <tr style=\"text-align: right;\">\n",
       "      <th></th>\n",
       "      <th>Tamaño chico verde</th>\n",
       "      <th>Tamaño mediano verde</th>\n",
       "      <th>Tamaño grande verde</th>\n",
       "      <th>Tamaño chico roja</th>\n",
       "      <th>Tamaño mediano roja</th>\n",
       "      <th>Tamaño grande roja</th>\n",
       "    </tr>\n",
       "  </thead>\n",
       "  <tbody>\n",
       "    <tr>\n",
       "      <th>1</th>\n",
       "      <td>107.049948</td>\n",
       "      <td>87.287183</td>\n",
       "      <td>66.001422</td>\n",
       "      <td>53.567426</td>\n",
       "      <td>43.486743</td>\n",
       "      <td>32.927427</td>\n",
       "    </tr>\n",
       "    <tr>\n",
       "      <th>2</th>\n",
       "      <td>106.502926</td>\n",
       "      <td>86.121985</td>\n",
       "      <td>66.075017</td>\n",
       "      <td>53.137608</td>\n",
       "      <td>43.091072</td>\n",
       "      <td>33.084744</td>\n",
       "    </tr>\n",
       "    <tr>\n",
       "      <th>3</th>\n",
       "      <td>120.088959</td>\n",
       "      <td>100.263748</td>\n",
       "      <td>79.193564</td>\n",
       "      <td>59.861309</td>\n",
       "      <td>50.177809</td>\n",
       "      <td>40.003726</td>\n",
       "    </tr>\n",
       "    <tr>\n",
       "      <th>4</th>\n",
       "      <td>134.402013</td>\n",
       "      <td>114.344725</td>\n",
       "      <td>93.447123</td>\n",
       "      <td>66.659068</td>\n",
       "      <td>56.551978</td>\n",
       "      <td>46.913854</td>\n",
       "    </tr>\n",
       "    <tr>\n",
       "      <th>5</th>\n",
       "      <td>133.688398</td>\n",
       "      <td>112.898788</td>\n",
       "      <td>92.836195</td>\n",
       "      <td>66.456004</td>\n",
       "      <td>56.926092</td>\n",
       "      <td>46.451916</td>\n",
       "    </tr>\n",
       "  </tbody>\n",
       "</table>\n",
       "</div>"
      ],
      "text/plain": [
       "   Tamaño chico verde  Tamaño mediano verde  Tamaño grande verde  \\\n",
       "1          107.049948             87.287183            66.001422   \n",
       "2          106.502926             86.121985            66.075017   \n",
       "3          120.088959            100.263748            79.193564   \n",
       "4          134.402013            114.344725            93.447123   \n",
       "5          133.688398            112.898788            92.836195   \n",
       "\n",
       "   Tamaño chico roja  Tamaño mediano roja  Tamaño grande roja  \n",
       "1          53.567426            43.486743           32.927427  \n",
       "2          53.137608            43.091072           33.084744  \n",
       "3          59.861309            50.177809           40.003726  \n",
       "4          66.659068            56.551978           46.913854  \n",
       "5          66.456004            56.926092           46.451916  "
      ]
     },
     "execution_count": 68,
     "metadata": {},
     "output_type": "execute_result"
    }
   ],
   "source": [
    "df_combined.index = range(1, len(df) + 1)\n",
    "df_combined"
   ]
  },
  {
   "cell_type": "code",
   "execution_count": 69,
   "metadata": {
    "id": "GNofFfzKFQQy"
   },
   "outputs": [],
   "source": [
    "df_combined.to_csv(\"demanda.csv\" ,encoding=\"latin1\")"
   ]
  },
  {
   "cell_type": "markdown",
   "metadata": {
    "id": "Q0yO7LNsFQQy"
   },
   "source": [
    "Heramentales"
   ]
  },
  {
   "cell_type": "code",
   "execution_count": 70,
   "metadata": {
    "colab": {
     "base_uri": "https://localhost:8080/"
    },
    "id": "sW1ql3dBFQQy",
    "outputId": "11b019b4-8ce6-4910-c273-0a3c7e4f669d"
   },
   "outputs": [
    {
     "name": "stdout",
     "output_type": "stream",
     "text": [
      "Media: 9.959486608673688, Varianza: 0.032658782176393064\n",
      "Media: 9.939038760009204, Varianza: 0.029569148172822746\n",
      "Media: 9.800657222455074, Varianza: 0.025060076729327307\n",
      "Media: 10.078458148873962, Varianza: 0.028486905505027638\n",
      "Media: 10.279202829840246, Varianza: 0.02226356653565298\n"
     ]
    }
   ],
   "source": [
    "numero_de_dias=5\n",
    "llegada_herramental1= []\n",
    "for i in range(numero_de_dias):\n",
    "    limite_inferior=0.0\n",
    "    limite_superior=12.0\n",
    "    enfoque= 4  # este es el que el wey puede cambiar 0 es optimista, 4, es pesimista, 2 normal ,\n",
    "    valor=obtener_datos(limite_inferior,limite_superior,enfoque)\n",
    "    llegada_herramental1.append(valor)"
   ]
  },
  {
   "cell_type": "code",
   "execution_count": 71,
   "metadata": {
    "colab": {
     "base_uri": "https://localhost:8080/"
    },
    "id": "AfYXShweFQQz",
    "outputId": "c097930b-9cfe-4c6b-dd11-b7ece1543e0b"
   },
   "outputs": [
    {
     "name": "stdout",
     "output_type": "stream",
     "text": [
      "Media: 9.980572999030233, Varianza: 0.031089582085876755\n",
      "Media: 10.060609315552245, Varianza: 0.032840725629065926\n",
      "Media: 10.080432800999583, Varianza: 0.022517074468533682\n",
      "Media: 9.932902965233595, Varianza: 0.030506377128382556\n",
      "Media: 10.113107545921359, Varianza: 0.022709130246850062\n"
     ]
    }
   ],
   "source": [
    "numero_de_dias=5\n",
    "llegada_herramental2= []\n",
    "for i in range(numero_de_dias):\n",
    "    limite_inferior=0.0\n",
    "    limite_superior=12.0\n",
    "    enfoque= 4  # este es el que el wey puede cambiar 0 es optimista, 4, es pesimista, 2 normal ,\n",
    "    valor=obtener_datos(limite_inferior,limite_superior,enfoque)\n",
    "    llegada_herramental2.append(valor)"
   ]
  },
  {
   "cell_type": "code",
   "execution_count": 72,
   "metadata": {
    "colab": {
     "base_uri": "https://localhost:8080/"
    },
    "id": "qi_ukCoMFQQz",
    "outputId": "fb047994-ea9d-463d-d715-68c55cffa14a"
   },
   "outputs": [
    {
     "data": {
      "text/plain": [
       "[9.980572999030233,\n",
       " 10.060609315552245,\n",
       " 10.080432800999583,\n",
       " 9.932902965233595,\n",
       " 10.113107545921359]"
      ]
     },
     "execution_count": 72,
     "metadata": {},
     "output_type": "execute_result"
    }
   ],
   "source": [
    "llegada_herramental2"
   ]
  },
  {
   "cell_type": "code",
   "execution_count": 73,
   "metadata": {
    "colab": {
     "base_uri": "https://localhost:8080/",
     "height": 206
    },
    "id": "K0FwYjQgFQQz",
    "outputId": "14b6cc6e-8ca0-46c7-e161-5feae24a8d33"
   },
   "outputs": [
    {
     "data": {
      "text/html": [
       "<div>\n",
       "<style scoped>\n",
       "    .dataframe tbody tr th:only-of-type {\n",
       "        vertical-align: middle;\n",
       "    }\n",
       "\n",
       "    .dataframe tbody tr th {\n",
       "        vertical-align: top;\n",
       "    }\n",
       "\n",
       "    .dataframe thead th {\n",
       "        text-align: right;\n",
       "    }\n",
       "</style>\n",
       "<table border=\"1\" class=\"dataframe\">\n",
       "  <thead>\n",
       "    <tr style=\"text-align: right;\">\n",
       "      <th></th>\n",
       "      <th>Herramental 1</th>\n",
       "      <th>Herramental 2</th>\n",
       "    </tr>\n",
       "  </thead>\n",
       "  <tbody>\n",
       "    <tr>\n",
       "      <th>0</th>\n",
       "      <td>9.959487</td>\n",
       "      <td>9.980573</td>\n",
       "    </tr>\n",
       "    <tr>\n",
       "      <th>1</th>\n",
       "      <td>9.939039</td>\n",
       "      <td>10.060609</td>\n",
       "    </tr>\n",
       "    <tr>\n",
       "      <th>2</th>\n",
       "      <td>9.800657</td>\n",
       "      <td>10.080433</td>\n",
       "    </tr>\n",
       "    <tr>\n",
       "      <th>3</th>\n",
       "      <td>10.078458</td>\n",
       "      <td>9.932903</td>\n",
       "    </tr>\n",
       "    <tr>\n",
       "      <th>4</th>\n",
       "      <td>10.279203</td>\n",
       "      <td>10.113108</td>\n",
       "    </tr>\n",
       "  </tbody>\n",
       "</table>\n",
       "</div>"
      ],
      "text/plain": [
       "   Herramental 1  Herramental 2\n",
       "0       9.959487       9.980573\n",
       "1       9.939039      10.060609\n",
       "2       9.800657      10.080433\n",
       "3      10.078458       9.932903\n",
       "4      10.279203      10.113108"
      ]
     },
     "execution_count": 73,
     "metadata": {},
     "output_type": "execute_result"
    }
   ],
   "source": [
    "df3 = pd.DataFrame({\n",
    "    'Herramental 1': llegada_herramental1,\n",
    "    'Herramental 2': llegada_herramental2,\n",
    "})\n",
    "df3"
   ]
  },
  {
   "cell_type": "code",
   "execution_count": 74,
   "metadata": {
    "colab": {
     "base_uri": "https://localhost:8080/",
     "height": 206
    },
    "id": "_nu8IJWKFQQz",
    "outputId": "551690c6-7c2a-4732-9e1b-635c2cbc482f"
   },
   "outputs": [
    {
     "data": {
      "text/html": [
       "<div>\n",
       "<style scoped>\n",
       "    .dataframe tbody tr th:only-of-type {\n",
       "        vertical-align: middle;\n",
       "    }\n",
       "\n",
       "    .dataframe tbody tr th {\n",
       "        vertical-align: top;\n",
       "    }\n",
       "\n",
       "    .dataframe thead th {\n",
       "        text-align: right;\n",
       "    }\n",
       "</style>\n",
       "<table border=\"1\" class=\"dataframe\">\n",
       "  <thead>\n",
       "    <tr style=\"text-align: right;\">\n",
       "      <th></th>\n",
       "      <th>Herramental 1</th>\n",
       "      <th>Herramental 2</th>\n",
       "    </tr>\n",
       "  </thead>\n",
       "  <tbody>\n",
       "    <tr>\n",
       "      <th>1</th>\n",
       "      <td>9.959487</td>\n",
       "      <td>9.980573</td>\n",
       "    </tr>\n",
       "    <tr>\n",
       "      <th>2</th>\n",
       "      <td>9.939039</td>\n",
       "      <td>10.060609</td>\n",
       "    </tr>\n",
       "    <tr>\n",
       "      <th>3</th>\n",
       "      <td>9.800657</td>\n",
       "      <td>10.080433</td>\n",
       "    </tr>\n",
       "    <tr>\n",
       "      <th>4</th>\n",
       "      <td>10.078458</td>\n",
       "      <td>9.932903</td>\n",
       "    </tr>\n",
       "    <tr>\n",
       "      <th>5</th>\n",
       "      <td>10.279203</td>\n",
       "      <td>10.113108</td>\n",
       "    </tr>\n",
       "  </tbody>\n",
       "</table>\n",
       "</div>"
      ],
      "text/plain": [
       "   Herramental 1  Herramental 2\n",
       "1       9.959487       9.980573\n",
       "2       9.939039      10.060609\n",
       "3       9.800657      10.080433\n",
       "4      10.078458       9.932903\n",
       "5      10.279203      10.113108"
      ]
     },
     "execution_count": 74,
     "metadata": {},
     "output_type": "execute_result"
    }
   ],
   "source": [
    "df3.index = range(1, len(df3) + 1)\n",
    "df3"
   ]
  },
  {
   "cell_type": "code",
   "execution_count": 75,
   "metadata": {
    "id": "g_uib_5BFQQz"
   },
   "outputs": [],
   "source": [
    "df3.to_csv(\"herramentales.csv\")"
   ]
  },
  {
   "cell_type": "markdown",
   "metadata": {
    "id": "PlZVj762JMhz"
   },
   "source": [
    "# Dataframes correctos.\n"
   ]
  },
  {
   "cell_type": "code",
   "execution_count": 76,
   "metadata": {
    "id": "sS3_SLCFJMPu"
   },
   "outputs": [],
   "source": [
    "salsa_verde = df.copy()\n",
    "salsa_roja = df2.copy()\n",
    "herramentales = df3.copy()"
   ]
  },
  {
   "cell_type": "code",
   "execution_count": 77,
   "metadata": {
    "colab": {
     "base_uri": "https://localhost:8080/",
     "height": 206
    },
    "id": "ors9lrsJNuAA",
    "outputId": "43da29c8-579b-44ed-87d4-35c5cf150fa7"
   },
   "outputs": [
    {
     "data": {
      "text/html": [
       "<div>\n",
       "<style scoped>\n",
       "    .dataframe tbody tr th:only-of-type {\n",
       "        vertical-align: middle;\n",
       "    }\n",
       "\n",
       "    .dataframe tbody tr th {\n",
       "        vertical-align: top;\n",
       "    }\n",
       "\n",
       "    .dataframe thead th {\n",
       "        text-align: right;\n",
       "    }\n",
       "</style>\n",
       "<table border=\"1\" class=\"dataframe\">\n",
       "  <thead>\n",
       "    <tr style=\"text-align: right;\">\n",
       "      <th></th>\n",
       "      <th>Tamaño chico verde</th>\n",
       "      <th>Tamaño mediano verde</th>\n",
       "      <th>Tamaño grande verde</th>\n",
       "    </tr>\n",
       "  </thead>\n",
       "  <tbody>\n",
       "    <tr>\n",
       "      <th>0</th>\n",
       "      <td>107.049948</td>\n",
       "      <td>87.287183</td>\n",
       "      <td>66.001422</td>\n",
       "    </tr>\n",
       "    <tr>\n",
       "      <th>1</th>\n",
       "      <td>106.502926</td>\n",
       "      <td>86.121985</td>\n",
       "      <td>66.075017</td>\n",
       "    </tr>\n",
       "    <tr>\n",
       "      <th>2</th>\n",
       "      <td>120.088959</td>\n",
       "      <td>100.263748</td>\n",
       "      <td>79.193564</td>\n",
       "    </tr>\n",
       "    <tr>\n",
       "      <th>3</th>\n",
       "      <td>134.402013</td>\n",
       "      <td>114.344725</td>\n",
       "      <td>93.447123</td>\n",
       "    </tr>\n",
       "    <tr>\n",
       "      <th>4</th>\n",
       "      <td>133.688398</td>\n",
       "      <td>112.898788</td>\n",
       "      <td>92.836195</td>\n",
       "    </tr>\n",
       "  </tbody>\n",
       "</table>\n",
       "</div>"
      ],
      "text/plain": [
       "   Tamaño chico verde  Tamaño mediano verde  Tamaño grande verde\n",
       "0          107.049948             87.287183            66.001422\n",
       "1          106.502926             86.121985            66.075017\n",
       "2          120.088959            100.263748            79.193564\n",
       "3          134.402013            114.344725            93.447123\n",
       "4          133.688398            112.898788            92.836195"
      ]
     },
     "execution_count": 77,
     "metadata": {},
     "output_type": "execute_result"
    }
   ],
   "source": [
    "salsa_verde"
   ]
  },
  {
   "cell_type": "code",
   "execution_count": 78,
   "metadata": {
    "colab": {
     "base_uri": "https://localhost:8080/",
     "height": 237
    },
    "id": "zxOCRdmLNv1I",
    "outputId": "e3e19f1e-dfc0-4fea-99fb-c9bcf60605a3"
   },
   "outputs": [
    {
     "data": {
      "text/html": [
       "<div>\n",
       "<style scoped>\n",
       "    .dataframe tbody tr th:only-of-type {\n",
       "        vertical-align: middle;\n",
       "    }\n",
       "\n",
       "    .dataframe tbody tr th {\n",
       "        vertical-align: top;\n",
       "    }\n",
       "\n",
       "    .dataframe thead th {\n",
       "        text-align: right;\n",
       "    }\n",
       "</style>\n",
       "<table border=\"1\" class=\"dataframe\">\n",
       "  <thead>\n",
       "    <tr style=\"text-align: right;\">\n",
       "      <th></th>\n",
       "      <th>Tamaño chico verde</th>\n",
       "      <th>Tamaño mediano verde</th>\n",
       "      <th>Tamaño grande verde</th>\n",
       "      <th>Total dia</th>\n",
       "    </tr>\n",
       "  </thead>\n",
       "  <tbody>\n",
       "    <tr>\n",
       "      <th>0</th>\n",
       "      <td>107.049948</td>\n",
       "      <td>87.287183</td>\n",
       "      <td>66.001422</td>\n",
       "      <td>260.338554</td>\n",
       "    </tr>\n",
       "    <tr>\n",
       "      <th>1</th>\n",
       "      <td>106.502926</td>\n",
       "      <td>86.121985</td>\n",
       "      <td>66.075017</td>\n",
       "      <td>258.699927</td>\n",
       "    </tr>\n",
       "    <tr>\n",
       "      <th>2</th>\n",
       "      <td>120.088959</td>\n",
       "      <td>100.263748</td>\n",
       "      <td>79.193564</td>\n",
       "      <td>299.546271</td>\n",
       "    </tr>\n",
       "    <tr>\n",
       "      <th>3</th>\n",
       "      <td>134.402013</td>\n",
       "      <td>114.344725</td>\n",
       "      <td>93.447123</td>\n",
       "      <td>342.193861</td>\n",
       "    </tr>\n",
       "    <tr>\n",
       "      <th>4</th>\n",
       "      <td>133.688398</td>\n",
       "      <td>112.898788</td>\n",
       "      <td>92.836195</td>\n",
       "      <td>339.423381</td>\n",
       "    </tr>\n",
       "    <tr>\n",
       "      <th>Total</th>\n",
       "      <td>601.732244</td>\n",
       "      <td>500.916430</td>\n",
       "      <td>397.553322</td>\n",
       "      <td>1500.201995</td>\n",
       "    </tr>\n",
       "  </tbody>\n",
       "</table>\n",
       "</div>"
      ],
      "text/plain": [
       "       Tamaño chico verde  Tamaño mediano verde  Tamaño grande verde  \\\n",
       "0              107.049948             87.287183            66.001422   \n",
       "1              106.502926             86.121985            66.075017   \n",
       "2              120.088959            100.263748            79.193564   \n",
       "3              134.402013            114.344725            93.447123   \n",
       "4              133.688398            112.898788            92.836195   \n",
       "Total          601.732244            500.916430           397.553322   \n",
       "\n",
       "         Total dia  \n",
       "0       260.338554  \n",
       "1       258.699927  \n",
       "2       299.546271  \n",
       "3       342.193861  \n",
       "4       339.423381  \n",
       "Total  1500.201995  "
      ]
     },
     "execution_count": 78,
     "metadata": {},
     "output_type": "execute_result"
    }
   ],
   "source": [
    "# Agregar fila Total, donde se encuentre la sumatoria de la fila\n",
    "salsa_verde.loc['Total'] = salsa_verde.sum()\n",
    "salsa_roja.loc['Total'] = salsa_roja.sum()\n",
    "\n",
    "# Agregar columna Total dia, donde se sume la cantidad que hay por columna\n",
    "salsa_verde.loc[:, 'Total dia'] = salsa_verde.sum(axis=1)\n",
    "salsa_roja.loc[:, 'Total dia'] = salsa_roja.sum(axis=1)\n",
    "\n",
    "\n",
    "salsa_verde"
   ]
  },
  {
   "cell_type": "code",
   "execution_count": 79,
   "metadata": {
    "id": "_SnYAyXOajGf"
   },
   "outputs": [],
   "source": [
    "# Borrar fila Total\n",
    "\n",
    "salsa_verde = salsa_verde.drop('Total')\n",
    "salsa_roja = salsa_roja.drop('Total')"
   ]
  },
  {
   "cell_type": "markdown",
   "metadata": {
    "id": "-1lYKoq9Jfwh"
   },
   "source": [
    "Parametros"
   ]
  },
  {
   "cell_type": "code",
   "execution_count": 80,
   "metadata": {
    "id": "VVDIBKNnJct7"
   },
   "outputs": [],
   "source": [
    "# Tiempos, Una lista de 3 en donde cada posición es una máquina y cada valor es su proceso de limpieza (M1,M2,M3)\n",
    "u = 0.25 # horas\n",
    "\n",
    "# Rates\n",
    "rM1 = 230\n",
    "rM2 = 290\n",
    "rM3 = 200\n",
    "\n",
    "# Capacidades\n",
    "capacidad_max_M1 = 345\n",
    "capacidad_max_M2 = 435\n",
    "capacidad_max_M3 = 300\n",
    "\n",
    "capacidad_min_M1 = 20\n",
    "capacidad_min_M2 = 40\n",
    "capacidad_min_M3 = 80"
   ]
  },
  {
   "cell_type": "markdown",
   "metadata": {
    "id": "eXPlPW9EKRNo"
   },
   "source": [
    "## Pasos a seguir\n"
   ]
  },
  {
   "cell_type": "code",
   "execution_count": 81,
   "metadata": {
    "colab": {
     "base_uri": "https://localhost:8080/",
     "height": 206
    },
    "id": "CIUK4i5nKTmZ",
    "outputId": "fbc473b0-478d-4dca-9be5-0117f88abb75"
   },
   "outputs": [
    {
     "data": {
      "text/html": [
       "<div>\n",
       "<style scoped>\n",
       "    .dataframe tbody tr th:only-of-type {\n",
       "        vertical-align: middle;\n",
       "    }\n",
       "\n",
       "    .dataframe tbody tr th {\n",
       "        vertical-align: top;\n",
       "    }\n",
       "\n",
       "    .dataframe thead th {\n",
       "        text-align: right;\n",
       "    }\n",
       "</style>\n",
       "<table border=\"1\" class=\"dataframe\">\n",
       "  <thead>\n",
       "    <tr style=\"text-align: right;\">\n",
       "      <th></th>\n",
       "      <th>Tamaño chico verde</th>\n",
       "      <th>Tamaño mediano verde</th>\n",
       "      <th>Tamaño grande verde</th>\n",
       "      <th>Total dia</th>\n",
       "      <th>Produccion chico</th>\n",
       "      <th>Produccion mediano</th>\n",
       "      <th>Produccion grande</th>\n",
       "      <th>Litros totales</th>\n",
       "    </tr>\n",
       "  </thead>\n",
       "  <tbody>\n",
       "    <tr>\n",
       "      <th>0</th>\n",
       "      <td>107.049948</td>\n",
       "      <td>87.287183</td>\n",
       "      <td>66.001422</td>\n",
       "      <td>260.338554</td>\n",
       "      <td>96.344953</td>\n",
       "      <td>130.930775</td>\n",
       "      <td>198.004267</td>\n",
       "      <td>425.279996</td>\n",
       "    </tr>\n",
       "    <tr>\n",
       "      <th>1</th>\n",
       "      <td>106.502926</td>\n",
       "      <td>86.121985</td>\n",
       "      <td>66.075017</td>\n",
       "      <td>258.699927</td>\n",
       "      <td>95.852634</td>\n",
       "      <td>129.182977</td>\n",
       "      <td>198.225050</td>\n",
       "      <td>423.260660</td>\n",
       "    </tr>\n",
       "    <tr>\n",
       "      <th>2</th>\n",
       "      <td>120.088959</td>\n",
       "      <td>100.263748</td>\n",
       "      <td>79.193564</td>\n",
       "      <td>299.546271</td>\n",
       "      <td>108.080063</td>\n",
       "      <td>150.395622</td>\n",
       "      <td>237.580693</td>\n",
       "      <td>496.056378</td>\n",
       "    </tr>\n",
       "    <tr>\n",
       "      <th>3</th>\n",
       "      <td>134.402013</td>\n",
       "      <td>114.344725</td>\n",
       "      <td>93.447123</td>\n",
       "      <td>342.193861</td>\n",
       "      <td>120.961812</td>\n",
       "      <td>171.517087</td>\n",
       "      <td>280.341370</td>\n",
       "      <td>572.820269</td>\n",
       "    </tr>\n",
       "    <tr>\n",
       "      <th>4</th>\n",
       "      <td>133.688398</td>\n",
       "      <td>112.898788</td>\n",
       "      <td>92.836195</td>\n",
       "      <td>339.423381</td>\n",
       "      <td>120.319558</td>\n",
       "      <td>169.348183</td>\n",
       "      <td>278.508585</td>\n",
       "      <td>568.176326</td>\n",
       "    </tr>\n",
       "  </tbody>\n",
       "</table>\n",
       "</div>"
      ],
      "text/plain": [
       "   Tamaño chico verde  Tamaño mediano verde  Tamaño grande verde   Total dia  \\\n",
       "0          107.049948             87.287183            66.001422  260.338554   \n",
       "1          106.502926             86.121985            66.075017  258.699927   \n",
       "2          120.088959            100.263748            79.193564  299.546271   \n",
       "3          134.402013            114.344725            93.447123  342.193861   \n",
       "4          133.688398            112.898788            92.836195  339.423381   \n",
       "\n",
       "   Produccion chico  Produccion mediano  Produccion grande  Litros totales  \n",
       "0         96.344953          130.930775         198.004267      425.279996  \n",
       "1         95.852634          129.182977         198.225050      423.260660  \n",
       "2        108.080063          150.395622         237.580693      496.056378  \n",
       "3        120.961812          171.517087         280.341370      572.820269  \n",
       "4        120.319558          169.348183         278.508585      568.176326  "
      ]
     },
     "execution_count": 81,
     "metadata": {},
     "output_type": "execute_result"
    }
   ],
   "source": [
    "# Sacar produccion total en Litros para las salsas\n",
    "\n",
    "# Chica: 0.2 Litros\n",
    "# Mediana: 0.3 Litros\n",
    "# Grande: 0.5 Litros\n",
    "\n",
    "# Crear columna Produccion chico, mediano, grande y multiplicarlo con los valores\n",
    "\n",
    "salsa_verde['Produccion chico'] = salsa_verde['Tamaño chico verde'] * 0.9\n",
    "salsa_verde['Produccion mediano'] = salsa_verde['Tamaño mediano verde'] * 1.5\n",
    "salsa_verde['Produccion grande'] = salsa_verde['Tamaño grande verde'] * 3\n",
    "\n",
    "salsa_roja['Produccion chico'] = salsa_roja['Tamaño chico roja'] * 0.3\n",
    "salsa_roja['Produccion mediano'] = salsa_roja['Tamaño mediano roja'] * 0.5\n",
    "salsa_roja['Produccion grande'] = salsa_roja['Tamaño grande roja'] * 1.0\n",
    "\n",
    "# Agregar columna Litros totales\n",
    "salsa_verde['Litros totales'] = salsa_verde['Produccion chico'] + salsa_verde['Produccion mediano'] + salsa_verde['Produccion grande']\n",
    "salsa_roja['Litros totales'] = salsa_roja['Produccion chico'] + salsa_roja['Produccion mediano'] + salsa_roja['Produccion grande']\n",
    "\n",
    "\n",
    "salsa_verde"
   ]
  },
  {
   "cell_type": "code",
   "execution_count": 82,
   "metadata": {
    "colab": {
     "base_uri": "https://localhost:8080/",
     "height": 206
    },
    "id": "0JH20aNVRxVn",
    "outputId": "d0934068-c96b-402f-a920-5c09e27e96df"
   },
   "outputs": [
    {
     "data": {
      "text/html": [
       "<div>\n",
       "<style scoped>\n",
       "    .dataframe tbody tr th:only-of-type {\n",
       "        vertical-align: middle;\n",
       "    }\n",
       "\n",
       "    .dataframe tbody tr th {\n",
       "        vertical-align: top;\n",
       "    }\n",
       "\n",
       "    .dataframe thead th {\n",
       "        text-align: right;\n",
       "    }\n",
       "</style>\n",
       "<table border=\"1\" class=\"dataframe\">\n",
       "  <thead>\n",
       "    <tr style=\"text-align: right;\">\n",
       "      <th></th>\n",
       "      <th>Tamaño chico verde</th>\n",
       "      <th>Tamaño mediano verde</th>\n",
       "      <th>Tamaño grande verde</th>\n",
       "      <th>Total dia</th>\n",
       "      <th>Produccion chico</th>\n",
       "      <th>Produccion mediano</th>\n",
       "      <th>Produccion grande</th>\n",
       "      <th>Litros totales</th>\n",
       "    </tr>\n",
       "  </thead>\n",
       "  <tbody>\n",
       "    <tr>\n",
       "      <th>3</th>\n",
       "      <td>134.402013</td>\n",
       "      <td>114.344725</td>\n",
       "      <td>93.447123</td>\n",
       "      <td>342.193861</td>\n",
       "      <td>120.961812</td>\n",
       "      <td>171.517087</td>\n",
       "      <td>280.341370</td>\n",
       "      <td>572.820269</td>\n",
       "    </tr>\n",
       "    <tr>\n",
       "      <th>4</th>\n",
       "      <td>133.688398</td>\n",
       "      <td>112.898788</td>\n",
       "      <td>92.836195</td>\n",
       "      <td>339.423381</td>\n",
       "      <td>120.319558</td>\n",
       "      <td>169.348183</td>\n",
       "      <td>278.508585</td>\n",
       "      <td>568.176326</td>\n",
       "    </tr>\n",
       "    <tr>\n",
       "      <th>2</th>\n",
       "      <td>120.088959</td>\n",
       "      <td>100.263748</td>\n",
       "      <td>79.193564</td>\n",
       "      <td>299.546271</td>\n",
       "      <td>108.080063</td>\n",
       "      <td>150.395622</td>\n",
       "      <td>237.580693</td>\n",
       "      <td>496.056378</td>\n",
       "    </tr>\n",
       "    <tr>\n",
       "      <th>0</th>\n",
       "      <td>107.049948</td>\n",
       "      <td>87.287183</td>\n",
       "      <td>66.001422</td>\n",
       "      <td>260.338554</td>\n",
       "      <td>96.344953</td>\n",
       "      <td>130.930775</td>\n",
       "      <td>198.004267</td>\n",
       "      <td>425.279996</td>\n",
       "    </tr>\n",
       "    <tr>\n",
       "      <th>1</th>\n",
       "      <td>106.502926</td>\n",
       "      <td>86.121985</td>\n",
       "      <td>66.075017</td>\n",
       "      <td>258.699927</td>\n",
       "      <td>95.852634</td>\n",
       "      <td>129.182977</td>\n",
       "      <td>198.225050</td>\n",
       "      <td>423.260660</td>\n",
       "    </tr>\n",
       "  </tbody>\n",
       "</table>\n",
       "</div>"
      ],
      "text/plain": [
       "   Tamaño chico verde  Tamaño mediano verde  Tamaño grande verde   Total dia  \\\n",
       "3          134.402013            114.344725            93.447123  342.193861   \n",
       "4          133.688398            112.898788            92.836195  339.423381   \n",
       "2          120.088959            100.263748            79.193564  299.546271   \n",
       "0          107.049948             87.287183            66.001422  260.338554   \n",
       "1          106.502926             86.121985            66.075017  258.699927   \n",
       "\n",
       "   Produccion chico  Produccion mediano  Produccion grande  Litros totales  \n",
       "3        120.961812          171.517087         280.341370      572.820269  \n",
       "4        120.319558          169.348183         278.508585      568.176326  \n",
       "2        108.080063          150.395622         237.580693      496.056378  \n",
       "0         96.344953          130.930775         198.004267      425.279996  \n",
       "1         95.852634          129.182977         198.225050      423.260660  "
      ]
     },
     "execution_count": 82,
     "metadata": {},
     "output_type": "execute_result"
    }
   ],
   "source": [
    "# Acomodamos el dataframe basado en mayor Litros totales, ignorando el Total\n",
    "\n",
    "salsa_verde = salsa_verde.sort_values(by='Litros totales', ascending=False)\n",
    "salsa_roja = salsa_roja.sort_values(by='Litros totales', ascending=False)\n",
    "\n",
    "salsa_verde"
   ]
  },
  {
   "cell_type": "code",
   "execution_count": 83,
   "metadata": {
    "colab": {
     "base_uri": "https://localhost:8080/",
     "height": 206
    },
    "id": "s1O4ofv2K4BY",
    "outputId": "3d827446-7618-41b8-ebf6-f03715e37c2f"
   },
   "outputs": [
    {
     "data": {
      "text/html": [
       "<div>\n",
       "<style scoped>\n",
       "    .dataframe tbody tr th:only-of-type {\n",
       "        vertical-align: middle;\n",
       "    }\n",
       "\n",
       "    .dataframe tbody tr th {\n",
       "        vertical-align: top;\n",
       "    }\n",
       "\n",
       "    .dataframe thead th {\n",
       "        text-align: right;\n",
       "    }\n",
       "</style>\n",
       "<table border=\"1\" class=\"dataframe\">\n",
       "  <thead>\n",
       "    <tr style=\"text-align: right;\">\n",
       "      <th></th>\n",
       "      <th>Tamaño chico verde</th>\n",
       "      <th>Tamaño mediano verde</th>\n",
       "      <th>Tamaño grande verde</th>\n",
       "      <th>Total dia</th>\n",
       "      <th>Produccion chico</th>\n",
       "      <th>Produccion mediano</th>\n",
       "      <th>Produccion grande</th>\n",
       "      <th>Litros totales</th>\n",
       "    </tr>\n",
       "  </thead>\n",
       "  <tbody>\n",
       "    <tr>\n",
       "      <th>1</th>\n",
       "      <td>134.402013</td>\n",
       "      <td>114.344725</td>\n",
       "      <td>93.447123</td>\n",
       "      <td>342.193861</td>\n",
       "      <td>120.961812</td>\n",
       "      <td>171.517087</td>\n",
       "      <td>280.341370</td>\n",
       "      <td>572.820269</td>\n",
       "    </tr>\n",
       "    <tr>\n",
       "      <th>2</th>\n",
       "      <td>133.688398</td>\n",
       "      <td>112.898788</td>\n",
       "      <td>92.836195</td>\n",
       "      <td>339.423381</td>\n",
       "      <td>120.319558</td>\n",
       "      <td>169.348183</td>\n",
       "      <td>278.508585</td>\n",
       "      <td>568.176326</td>\n",
       "    </tr>\n",
       "    <tr>\n",
       "      <th>3</th>\n",
       "      <td>120.088959</td>\n",
       "      <td>100.263748</td>\n",
       "      <td>79.193564</td>\n",
       "      <td>299.546271</td>\n",
       "      <td>108.080063</td>\n",
       "      <td>150.395622</td>\n",
       "      <td>237.580693</td>\n",
       "      <td>496.056378</td>\n",
       "    </tr>\n",
       "    <tr>\n",
       "      <th>4</th>\n",
       "      <td>107.049948</td>\n",
       "      <td>87.287183</td>\n",
       "      <td>66.001422</td>\n",
       "      <td>260.338554</td>\n",
       "      <td>96.344953</td>\n",
       "      <td>130.930775</td>\n",
       "      <td>198.004267</td>\n",
       "      <td>425.279996</td>\n",
       "    </tr>\n",
       "    <tr>\n",
       "      <th>5</th>\n",
       "      <td>106.502926</td>\n",
       "      <td>86.121985</td>\n",
       "      <td>66.075017</td>\n",
       "      <td>258.699927</td>\n",
       "      <td>95.852634</td>\n",
       "      <td>129.182977</td>\n",
       "      <td>198.225050</td>\n",
       "      <td>423.260660</td>\n",
       "    </tr>\n",
       "  </tbody>\n",
       "</table>\n",
       "</div>"
      ],
      "text/plain": [
       "   Tamaño chico verde  Tamaño mediano verde  Tamaño grande verde   Total dia  \\\n",
       "1          134.402013            114.344725            93.447123  342.193861   \n",
       "2          133.688398            112.898788            92.836195  339.423381   \n",
       "3          120.088959            100.263748            79.193564  299.546271   \n",
       "4          107.049948             87.287183            66.001422  260.338554   \n",
       "5          106.502926             86.121985            66.075017  258.699927   \n",
       "\n",
       "   Produccion chico  Produccion mediano  Produccion grande  Litros totales  \n",
       "1        120.961812          171.517087         280.341370      572.820269  \n",
       "2        120.319558          169.348183         278.508585      568.176326  \n",
       "3        108.080063          150.395622         237.580693      496.056378  \n",
       "4         96.344953          130.930775         198.004267      425.279996  \n",
       "5         95.852634          129.182977         198.225050      423.260660  "
      ]
     },
     "execution_count": 83,
     "metadata": {},
     "output_type": "execute_result"
    }
   ],
   "source": [
    "salsa_verde.index = range(1, len(salsa_verde) + 1)\n",
    "salsa_verde"
   ]
  },
  {
   "cell_type": "code",
   "execution_count": 84,
   "metadata": {
    "colab": {
     "base_uri": "https://localhost:8080/",
     "height": 206
    },
    "id": "3gYcXqzlSLuZ",
    "outputId": "2269ff54-cb10-467d-8f40-134ee823b33a"
   },
   "outputs": [
    {
     "data": {
      "text/html": [
       "<div>\n",
       "<style scoped>\n",
       "    .dataframe tbody tr th:only-of-type {\n",
       "        vertical-align: middle;\n",
       "    }\n",
       "\n",
       "    .dataframe tbody tr th {\n",
       "        vertical-align: top;\n",
       "    }\n",
       "\n",
       "    .dataframe thead th {\n",
       "        text-align: right;\n",
       "    }\n",
       "</style>\n",
       "<table border=\"1\" class=\"dataframe\">\n",
       "  <thead>\n",
       "    <tr style=\"text-align: right;\">\n",
       "      <th></th>\n",
       "      <th>Tamaño chico roja</th>\n",
       "      <th>Tamaño mediano roja</th>\n",
       "      <th>Tamaño grande roja</th>\n",
       "      <th>Total dia</th>\n",
       "      <th>Produccion chico</th>\n",
       "      <th>Produccion mediano</th>\n",
       "      <th>Produccion grande</th>\n",
       "      <th>Litros totales</th>\n",
       "    </tr>\n",
       "  </thead>\n",
       "  <tbody>\n",
       "    <tr>\n",
       "      <th>3</th>\n",
       "      <td>66.659068</td>\n",
       "      <td>56.551978</td>\n",
       "      <td>46.913854</td>\n",
       "      <td>170.124899</td>\n",
       "      <td>19.997720</td>\n",
       "      <td>28.275989</td>\n",
       "      <td>46.913854</td>\n",
       "      <td>95.187563</td>\n",
       "    </tr>\n",
       "    <tr>\n",
       "      <th>4</th>\n",
       "      <td>66.456004</td>\n",
       "      <td>56.926092</td>\n",
       "      <td>46.451916</td>\n",
       "      <td>169.834012</td>\n",
       "      <td>19.936801</td>\n",
       "      <td>28.463046</td>\n",
       "      <td>46.451916</td>\n",
       "      <td>94.851764</td>\n",
       "    </tr>\n",
       "    <tr>\n",
       "      <th>2</th>\n",
       "      <td>59.861309</td>\n",
       "      <td>50.177809</td>\n",
       "      <td>40.003726</td>\n",
       "      <td>150.042845</td>\n",
       "      <td>17.958393</td>\n",
       "      <td>25.088905</td>\n",
       "      <td>40.003726</td>\n",
       "      <td>83.051024</td>\n",
       "    </tr>\n",
       "    <tr>\n",
       "      <th>0</th>\n",
       "      <td>53.567426</td>\n",
       "      <td>43.486743</td>\n",
       "      <td>32.927427</td>\n",
       "      <td>129.981595</td>\n",
       "      <td>16.070228</td>\n",
       "      <td>21.743371</td>\n",
       "      <td>32.927427</td>\n",
       "      <td>70.741026</td>\n",
       "    </tr>\n",
       "    <tr>\n",
       "      <th>1</th>\n",
       "      <td>53.137608</td>\n",
       "      <td>43.091072</td>\n",
       "      <td>33.084744</td>\n",
       "      <td>129.313424</td>\n",
       "      <td>15.941282</td>\n",
       "      <td>21.545536</td>\n",
       "      <td>33.084744</td>\n",
       "      <td>70.571562</td>\n",
       "    </tr>\n",
       "  </tbody>\n",
       "</table>\n",
       "</div>"
      ],
      "text/plain": [
       "   Tamaño chico roja  Tamaño mediano roja  Tamaño grande roja   Total dia  \\\n",
       "3          66.659068            56.551978           46.913854  170.124899   \n",
       "4          66.456004            56.926092           46.451916  169.834012   \n",
       "2          59.861309            50.177809           40.003726  150.042845   \n",
       "0          53.567426            43.486743           32.927427  129.981595   \n",
       "1          53.137608            43.091072           33.084744  129.313424   \n",
       "\n",
       "   Produccion chico  Produccion mediano  Produccion grande  Litros totales  \n",
       "3         19.997720           28.275989          46.913854       95.187563  \n",
       "4         19.936801           28.463046          46.451916       94.851764  \n",
       "2         17.958393           25.088905          40.003726       83.051024  \n",
       "0         16.070228           21.743371          32.927427       70.741026  \n",
       "1         15.941282           21.545536          33.084744       70.571562  "
      ]
     },
     "execution_count": 84,
     "metadata": {},
     "output_type": "execute_result"
    }
   ],
   "source": [
    "salsa_roja"
   ]
  },
  {
   "cell_type": "code",
   "execution_count": 85,
   "metadata": {
    "colab": {
     "base_uri": "https://localhost:8080/",
     "height": 206
    },
    "id": "Tni5eqeQUH61",
    "outputId": "74ac82a3-9574-48ec-e183-6c029dbfe0b2"
   },
   "outputs": [
    {
     "data": {
      "text/html": [
       "<div>\n",
       "<style scoped>\n",
       "    .dataframe tbody tr th:only-of-type {\n",
       "        vertical-align: middle;\n",
       "    }\n",
       "\n",
       "    .dataframe tbody tr th {\n",
       "        vertical-align: top;\n",
       "    }\n",
       "\n",
       "    .dataframe thead th {\n",
       "        text-align: right;\n",
       "    }\n",
       "</style>\n",
       "<table border=\"1\" class=\"dataframe\">\n",
       "  <thead>\n",
       "    <tr style=\"text-align: right;\">\n",
       "      <th></th>\n",
       "      <th>Tamaño chico verde</th>\n",
       "      <th>Tamaño mediano verde</th>\n",
       "      <th>Tamaño grande verde</th>\n",
       "      <th>Total dia</th>\n",
       "      <th>Produccion chico</th>\n",
       "      <th>Produccion mediano</th>\n",
       "      <th>Produccion grande</th>\n",
       "      <th>Litros totales</th>\n",
       "    </tr>\n",
       "  </thead>\n",
       "  <tbody>\n",
       "    <tr>\n",
       "      <th>1</th>\n",
       "      <td>134.402013</td>\n",
       "      <td>114.344725</td>\n",
       "      <td>93.447123</td>\n",
       "      <td>342.193861</td>\n",
       "      <td>120.961812</td>\n",
       "      <td>171.517087</td>\n",
       "      <td>280.341370</td>\n",
       "      <td>572.820269</td>\n",
       "    </tr>\n",
       "    <tr>\n",
       "      <th>2</th>\n",
       "      <td>133.688398</td>\n",
       "      <td>112.898788</td>\n",
       "      <td>92.836195</td>\n",
       "      <td>339.423381</td>\n",
       "      <td>120.319558</td>\n",
       "      <td>169.348183</td>\n",
       "      <td>278.508585</td>\n",
       "      <td>568.176326</td>\n",
       "    </tr>\n",
       "    <tr>\n",
       "      <th>3</th>\n",
       "      <td>120.088959</td>\n",
       "      <td>100.263748</td>\n",
       "      <td>79.193564</td>\n",
       "      <td>299.546271</td>\n",
       "      <td>108.080063</td>\n",
       "      <td>150.395622</td>\n",
       "      <td>237.580693</td>\n",
       "      <td>496.056378</td>\n",
       "    </tr>\n",
       "    <tr>\n",
       "      <th>4</th>\n",
       "      <td>107.049948</td>\n",
       "      <td>87.287183</td>\n",
       "      <td>66.001422</td>\n",
       "      <td>260.338554</td>\n",
       "      <td>96.344953</td>\n",
       "      <td>130.930775</td>\n",
       "      <td>198.004267</td>\n",
       "      <td>425.279996</td>\n",
       "    </tr>\n",
       "    <tr>\n",
       "      <th>5</th>\n",
       "      <td>106.502926</td>\n",
       "      <td>86.121985</td>\n",
       "      <td>66.075017</td>\n",
       "      <td>258.699927</td>\n",
       "      <td>95.852634</td>\n",
       "      <td>129.182977</td>\n",
       "      <td>198.225050</td>\n",
       "      <td>423.260660</td>\n",
       "    </tr>\n",
       "  </tbody>\n",
       "</table>\n",
       "</div>"
      ],
      "text/plain": [
       "   Tamaño chico verde  Tamaño mediano verde  Tamaño grande verde   Total dia  \\\n",
       "1          134.402013            114.344725            93.447123  342.193861   \n",
       "2          133.688398            112.898788            92.836195  339.423381   \n",
       "3          120.088959            100.263748            79.193564  299.546271   \n",
       "4          107.049948             87.287183            66.001422  260.338554   \n",
       "5          106.502926             86.121985            66.075017  258.699927   \n",
       "\n",
       "   Produccion chico  Produccion mediano  Produccion grande  Litros totales  \n",
       "1        120.961812          171.517087         280.341370      572.820269  \n",
       "2        120.319558          169.348183         278.508585      568.176326  \n",
       "3        108.080063          150.395622         237.580693      496.056378  \n",
       "4         96.344953          130.930775         198.004267      425.279996  \n",
       "5         95.852634          129.182977         198.225050      423.260660  "
      ]
     },
     "execution_count": 85,
     "metadata": {},
     "output_type": "execute_result"
    }
   ],
   "source": [
    "salsa_verde"
   ]
  },
  {
   "cell_type": "code",
   "execution_count": 86,
   "metadata": {
    "colab": {
     "base_uri": "https://localhost:8080/",
     "height": 206
    },
    "id": "9gUdjaFoURCc",
    "outputId": "de7cbb93-b2c3-4693-a7ca-15363a586a26"
   },
   "outputs": [
    {
     "data": {
      "text/html": [
       "<div>\n",
       "<style scoped>\n",
       "    .dataframe tbody tr th:only-of-type {\n",
       "        vertical-align: middle;\n",
       "    }\n",
       "\n",
       "    .dataframe tbody tr th {\n",
       "        vertical-align: top;\n",
       "    }\n",
       "\n",
       "    .dataframe thead th {\n",
       "        text-align: right;\n",
       "    }\n",
       "</style>\n",
       "<table border=\"1\" class=\"dataframe\">\n",
       "  <thead>\n",
       "    <tr style=\"text-align: right;\">\n",
       "      <th></th>\n",
       "      <th>Tamaño chico roja</th>\n",
       "      <th>Tamaño mediano roja</th>\n",
       "      <th>Tamaño grande roja</th>\n",
       "      <th>Total dia</th>\n",
       "      <th>Produccion chico</th>\n",
       "      <th>Produccion mediano</th>\n",
       "      <th>Produccion grande</th>\n",
       "      <th>Litros totales</th>\n",
       "    </tr>\n",
       "  </thead>\n",
       "  <tbody>\n",
       "    <tr>\n",
       "      <th>3</th>\n",
       "      <td>66.659068</td>\n",
       "      <td>56.551978</td>\n",
       "      <td>46.913854</td>\n",
       "      <td>170.124899</td>\n",
       "      <td>19.997720</td>\n",
       "      <td>28.275989</td>\n",
       "      <td>46.913854</td>\n",
       "      <td>95.187563</td>\n",
       "    </tr>\n",
       "    <tr>\n",
       "      <th>4</th>\n",
       "      <td>66.456004</td>\n",
       "      <td>56.926092</td>\n",
       "      <td>46.451916</td>\n",
       "      <td>169.834012</td>\n",
       "      <td>19.936801</td>\n",
       "      <td>28.463046</td>\n",
       "      <td>46.451916</td>\n",
       "      <td>94.851764</td>\n",
       "    </tr>\n",
       "    <tr>\n",
       "      <th>2</th>\n",
       "      <td>59.861309</td>\n",
       "      <td>50.177809</td>\n",
       "      <td>40.003726</td>\n",
       "      <td>150.042845</td>\n",
       "      <td>17.958393</td>\n",
       "      <td>25.088905</td>\n",
       "      <td>40.003726</td>\n",
       "      <td>83.051024</td>\n",
       "    </tr>\n",
       "    <tr>\n",
       "      <th>0</th>\n",
       "      <td>53.567426</td>\n",
       "      <td>43.486743</td>\n",
       "      <td>32.927427</td>\n",
       "      <td>129.981595</td>\n",
       "      <td>16.070228</td>\n",
       "      <td>21.743371</td>\n",
       "      <td>32.927427</td>\n",
       "      <td>70.741026</td>\n",
       "    </tr>\n",
       "    <tr>\n",
       "      <th>1</th>\n",
       "      <td>53.137608</td>\n",
       "      <td>43.091072</td>\n",
       "      <td>33.084744</td>\n",
       "      <td>129.313424</td>\n",
       "      <td>15.941282</td>\n",
       "      <td>21.545536</td>\n",
       "      <td>33.084744</td>\n",
       "      <td>70.571562</td>\n",
       "    </tr>\n",
       "  </tbody>\n",
       "</table>\n",
       "</div>"
      ],
      "text/plain": [
       "   Tamaño chico roja  Tamaño mediano roja  Tamaño grande roja   Total dia  \\\n",
       "3          66.659068            56.551978           46.913854  170.124899   \n",
       "4          66.456004            56.926092           46.451916  169.834012   \n",
       "2          59.861309            50.177809           40.003726  150.042845   \n",
       "0          53.567426            43.486743           32.927427  129.981595   \n",
       "1          53.137608            43.091072           33.084744  129.313424   \n",
       "\n",
       "   Produccion chico  Produccion mediano  Produccion grande  Litros totales  \n",
       "3         19.997720           28.275989          46.913854       95.187563  \n",
       "4         19.936801           28.463046          46.451916       94.851764  \n",
       "2         17.958393           25.088905          40.003726       83.051024  \n",
       "0         16.070228           21.743371          32.927427       70.741026  \n",
       "1         15.941282           21.545536          33.084744       70.571562  "
      ]
     },
     "execution_count": 86,
     "metadata": {},
     "output_type": "execute_result"
    }
   ],
   "source": [
    "salsa_roja"
   ]
  },
  {
   "cell_type": "code",
   "execution_count": 87,
   "metadata": {
    "colab": {
     "base_uri": "https://localhost:8080/",
     "height": 206
    },
    "id": "u-mvNTjJK92-",
    "outputId": "fca60df1-e739-4e05-fee9-6efde707e71d"
   },
   "outputs": [
    {
     "data": {
      "text/html": [
       "<div>\n",
       "<style scoped>\n",
       "    .dataframe tbody tr th:only-of-type {\n",
       "        vertical-align: middle;\n",
       "    }\n",
       "\n",
       "    .dataframe tbody tr th {\n",
       "        vertical-align: top;\n",
       "    }\n",
       "\n",
       "    .dataframe thead th {\n",
       "        text-align: right;\n",
       "    }\n",
       "</style>\n",
       "<table border=\"1\" class=\"dataframe\">\n",
       "  <thead>\n",
       "    <tr style=\"text-align: right;\">\n",
       "      <th></th>\n",
       "      <th>Tamaño chico roja</th>\n",
       "      <th>Tamaño mediano roja</th>\n",
       "      <th>Tamaño grande roja</th>\n",
       "      <th>Total dia</th>\n",
       "      <th>Produccion chico</th>\n",
       "      <th>Produccion mediano</th>\n",
       "      <th>Produccion grande</th>\n",
       "      <th>Litros totales</th>\n",
       "    </tr>\n",
       "  </thead>\n",
       "  <tbody>\n",
       "    <tr>\n",
       "      <th>1</th>\n",
       "      <td>66.659068</td>\n",
       "      <td>56.551978</td>\n",
       "      <td>46.913854</td>\n",
       "      <td>170.124899</td>\n",
       "      <td>19.997720</td>\n",
       "      <td>28.275989</td>\n",
       "      <td>46.913854</td>\n",
       "      <td>95.187563</td>\n",
       "    </tr>\n",
       "    <tr>\n",
       "      <th>2</th>\n",
       "      <td>66.456004</td>\n",
       "      <td>56.926092</td>\n",
       "      <td>46.451916</td>\n",
       "      <td>169.834012</td>\n",
       "      <td>19.936801</td>\n",
       "      <td>28.463046</td>\n",
       "      <td>46.451916</td>\n",
       "      <td>94.851764</td>\n",
       "    </tr>\n",
       "    <tr>\n",
       "      <th>3</th>\n",
       "      <td>59.861309</td>\n",
       "      <td>50.177809</td>\n",
       "      <td>40.003726</td>\n",
       "      <td>150.042845</td>\n",
       "      <td>17.958393</td>\n",
       "      <td>25.088905</td>\n",
       "      <td>40.003726</td>\n",
       "      <td>83.051024</td>\n",
       "    </tr>\n",
       "    <tr>\n",
       "      <th>4</th>\n",
       "      <td>53.567426</td>\n",
       "      <td>43.486743</td>\n",
       "      <td>32.927427</td>\n",
       "      <td>129.981595</td>\n",
       "      <td>16.070228</td>\n",
       "      <td>21.743371</td>\n",
       "      <td>32.927427</td>\n",
       "      <td>70.741026</td>\n",
       "    </tr>\n",
       "    <tr>\n",
       "      <th>5</th>\n",
       "      <td>53.137608</td>\n",
       "      <td>43.091072</td>\n",
       "      <td>33.084744</td>\n",
       "      <td>129.313424</td>\n",
       "      <td>15.941282</td>\n",
       "      <td>21.545536</td>\n",
       "      <td>33.084744</td>\n",
       "      <td>70.571562</td>\n",
       "    </tr>\n",
       "  </tbody>\n",
       "</table>\n",
       "</div>"
      ],
      "text/plain": [
       "   Tamaño chico roja  Tamaño mediano roja  Tamaño grande roja   Total dia  \\\n",
       "1          66.659068            56.551978           46.913854  170.124899   \n",
       "2          66.456004            56.926092           46.451916  169.834012   \n",
       "3          59.861309            50.177809           40.003726  150.042845   \n",
       "4          53.567426            43.486743           32.927427  129.981595   \n",
       "5          53.137608            43.091072           33.084744  129.313424   \n",
       "\n",
       "   Produccion chico  Produccion mediano  Produccion grande  Litros totales  \n",
       "1         19.997720           28.275989          46.913854       95.187563  \n",
       "2         19.936801           28.463046          46.451916       94.851764  \n",
       "3         17.958393           25.088905          40.003726       83.051024  \n",
       "4         16.070228           21.743371          32.927427       70.741026  \n",
       "5         15.941282           21.545536          33.084744       70.571562  "
      ]
     },
     "execution_count": 87,
     "metadata": {},
     "output_type": "execute_result"
    }
   ],
   "source": [
    "salsa_roja.index = range(1, len(salsa_roja) + 1)\n",
    "salsa_roja"
   ]
  },
  {
   "cell_type": "code",
   "execution_count": 88,
   "metadata": {
    "id": "OAqmTvyOn3EU"
   },
   "outputs": [],
   "source": [
    "# Generar csv de salsa_verde y salsa_roja\n",
    "\n",
    "salsa_verde.to_csv('salsa_verde.csv', index=False)\n",
    "salsa_roja.to_csv('salsa_roja.csv', index=False)"
   ]
  },
  {
   "cell_type": "code",
   "execution_count": 89,
   "metadata": {
    "colab": {
     "base_uri": "https://localhost:8080/",
     "height": 206
    },
    "id": "-PWJwLr0tamL",
    "outputId": "c2c37a49-174a-4783-f1a2-f6692484b8f2"
   },
   "outputs": [
    {
     "data": {
      "text/html": [
       "<div>\n",
       "<style scoped>\n",
       "    .dataframe tbody tr th:only-of-type {\n",
       "        vertical-align: middle;\n",
       "    }\n",
       "\n",
       "    .dataframe tbody tr th {\n",
       "        vertical-align: top;\n",
       "    }\n",
       "\n",
       "    .dataframe thead th {\n",
       "        text-align: right;\n",
       "    }\n",
       "</style>\n",
       "<table border=\"1\" class=\"dataframe\">\n",
       "  <thead>\n",
       "    <tr style=\"text-align: right;\">\n",
       "      <th></th>\n",
       "      <th>Herramental 1</th>\n",
       "      <th>Herramental 2</th>\n",
       "    </tr>\n",
       "  </thead>\n",
       "  <tbody>\n",
       "    <tr>\n",
       "      <th>1</th>\n",
       "      <td>9.959487</td>\n",
       "      <td>9.980573</td>\n",
       "    </tr>\n",
       "    <tr>\n",
       "      <th>2</th>\n",
       "      <td>9.939039</td>\n",
       "      <td>10.060609</td>\n",
       "    </tr>\n",
       "    <tr>\n",
       "      <th>3</th>\n",
       "      <td>9.800657</td>\n",
       "      <td>10.080433</td>\n",
       "    </tr>\n",
       "    <tr>\n",
       "      <th>4</th>\n",
       "      <td>10.078458</td>\n",
       "      <td>9.932903</td>\n",
       "    </tr>\n",
       "    <tr>\n",
       "      <th>5</th>\n",
       "      <td>10.279203</td>\n",
       "      <td>10.113108</td>\n",
       "    </tr>\n",
       "  </tbody>\n",
       "</table>\n",
       "</div>"
      ],
      "text/plain": [
       "   Herramental 1  Herramental 2\n",
       "1       9.959487       9.980573\n",
       "2       9.939039      10.060609\n",
       "3       9.800657      10.080433\n",
       "4      10.078458       9.932903\n",
       "5      10.279203      10.113108"
      ]
     },
     "execution_count": 89,
     "metadata": {},
     "output_type": "execute_result"
    }
   ],
   "source": [
    "# Dataframe herramental\n",
    "herramentales"
   ]
  },
  {
   "cell_type": "code",
   "execution_count": 90,
   "metadata": {
    "colab": {
     "base_uri": "https://localhost:8080/",
     "height": 206
    },
    "id": "5O1dYWOHfQyr",
    "outputId": "a038fac1-50f8-4626-a12b-e1f984c10513"
   },
   "outputs": [
    {
     "data": {
      "text/html": [
       "<div>\n",
       "<style scoped>\n",
       "    .dataframe tbody tr th:only-of-type {\n",
       "        vertical-align: middle;\n",
       "    }\n",
       "\n",
       "    .dataframe tbody tr th {\n",
       "        vertical-align: top;\n",
       "    }\n",
       "\n",
       "    .dataframe thead th {\n",
       "        text-align: right;\n",
       "    }\n",
       "</style>\n",
       "<table border=\"1\" class=\"dataframe\">\n",
       "  <thead>\n",
       "    <tr style=\"text-align: right;\">\n",
       "      <th></th>\n",
       "      <th>Tamaño chico roja</th>\n",
       "      <th>Tamaño mediano roja</th>\n",
       "      <th>Tamaño grande roja</th>\n",
       "      <th>Total dia</th>\n",
       "      <th>Produccion chico</th>\n",
       "      <th>Produccion mediano</th>\n",
       "      <th>Produccion grande</th>\n",
       "      <th>Litros totales</th>\n",
       "    </tr>\n",
       "  </thead>\n",
       "  <tbody>\n",
       "    <tr>\n",
       "      <th>1</th>\n",
       "      <td>66.659068</td>\n",
       "      <td>56.551978</td>\n",
       "      <td>46.913854</td>\n",
       "      <td>170.124899</td>\n",
       "      <td>19.997720</td>\n",
       "      <td>28.275989</td>\n",
       "      <td>46.913854</td>\n",
       "      <td>95.187563</td>\n",
       "    </tr>\n",
       "    <tr>\n",
       "      <th>2</th>\n",
       "      <td>66.456004</td>\n",
       "      <td>56.926092</td>\n",
       "      <td>46.451916</td>\n",
       "      <td>169.834012</td>\n",
       "      <td>19.936801</td>\n",
       "      <td>28.463046</td>\n",
       "      <td>46.451916</td>\n",
       "      <td>94.851764</td>\n",
       "    </tr>\n",
       "    <tr>\n",
       "      <th>3</th>\n",
       "      <td>59.861309</td>\n",
       "      <td>50.177809</td>\n",
       "      <td>40.003726</td>\n",
       "      <td>150.042845</td>\n",
       "      <td>17.958393</td>\n",
       "      <td>25.088905</td>\n",
       "      <td>40.003726</td>\n",
       "      <td>83.051024</td>\n",
       "    </tr>\n",
       "    <tr>\n",
       "      <th>4</th>\n",
       "      <td>53.567426</td>\n",
       "      <td>43.486743</td>\n",
       "      <td>32.927427</td>\n",
       "      <td>129.981595</td>\n",
       "      <td>16.070228</td>\n",
       "      <td>21.743371</td>\n",
       "      <td>32.927427</td>\n",
       "      <td>70.741026</td>\n",
       "    </tr>\n",
       "    <tr>\n",
       "      <th>5</th>\n",
       "      <td>53.137608</td>\n",
       "      <td>43.091072</td>\n",
       "      <td>33.084744</td>\n",
       "      <td>129.313424</td>\n",
       "      <td>15.941282</td>\n",
       "      <td>21.545536</td>\n",
       "      <td>33.084744</td>\n",
       "      <td>70.571562</td>\n",
       "    </tr>\n",
       "  </tbody>\n",
       "</table>\n",
       "</div>"
      ],
      "text/plain": [
       "   Tamaño chico roja  Tamaño mediano roja  Tamaño grande roja   Total dia  \\\n",
       "1          66.659068            56.551978           46.913854  170.124899   \n",
       "2          66.456004            56.926092           46.451916  169.834012   \n",
       "3          59.861309            50.177809           40.003726  150.042845   \n",
       "4          53.567426            43.486743           32.927427  129.981595   \n",
       "5          53.137608            43.091072           33.084744  129.313424   \n",
       "\n",
       "   Produccion chico  Produccion mediano  Produccion grande  Litros totales  \n",
       "1         19.997720           28.275989          46.913854       95.187563  \n",
       "2         19.936801           28.463046          46.451916       94.851764  \n",
       "3         17.958393           25.088905          40.003726       83.051024  \n",
       "4         16.070228           21.743371          32.927427       70.741026  \n",
       "5         15.941282           21.545536          33.084744       70.571562  "
      ]
     },
     "execution_count": 90,
     "metadata": {},
     "output_type": "execute_result"
    }
   ],
   "source": [
    "salsa_roja"
   ]
  },
  {
   "cell_type": "code",
   "execution_count": 91,
   "metadata": {
    "colab": {
     "base_uri": "https://localhost:8080/",
     "height": 206
    },
    "id": "Jt2CTkc3fKju",
    "outputId": "a93d3f40-f9f2-4119-f804-22eb8b19bb8d"
   },
   "outputs": [
    {
     "data": {
      "text/html": [
       "<div>\n",
       "<style scoped>\n",
       "    .dataframe tbody tr th:only-of-type {\n",
       "        vertical-align: middle;\n",
       "    }\n",
       "\n",
       "    .dataframe tbody tr th {\n",
       "        vertical-align: top;\n",
       "    }\n",
       "\n",
       "    .dataframe thead th {\n",
       "        text-align: right;\n",
       "    }\n",
       "</style>\n",
       "<table border=\"1\" class=\"dataframe\">\n",
       "  <thead>\n",
       "    <tr style=\"text-align: right;\">\n",
       "      <th></th>\n",
       "      <th>Tamaño chico verde</th>\n",
       "      <th>Tamaño mediano verde</th>\n",
       "      <th>Tamaño grande verde</th>\n",
       "      <th>Total dia</th>\n",
       "      <th>Produccion chico</th>\n",
       "      <th>Produccion mediano</th>\n",
       "      <th>Produccion grande</th>\n",
       "      <th>Litros totales</th>\n",
       "    </tr>\n",
       "  </thead>\n",
       "  <tbody>\n",
       "    <tr>\n",
       "      <th>1</th>\n",
       "      <td>134.402013</td>\n",
       "      <td>114.344725</td>\n",
       "      <td>93.447123</td>\n",
       "      <td>342.193861</td>\n",
       "      <td>120.961812</td>\n",
       "      <td>171.517087</td>\n",
       "      <td>280.341370</td>\n",
       "      <td>572.820269</td>\n",
       "    </tr>\n",
       "    <tr>\n",
       "      <th>2</th>\n",
       "      <td>133.688398</td>\n",
       "      <td>112.898788</td>\n",
       "      <td>92.836195</td>\n",
       "      <td>339.423381</td>\n",
       "      <td>120.319558</td>\n",
       "      <td>169.348183</td>\n",
       "      <td>278.508585</td>\n",
       "      <td>568.176326</td>\n",
       "    </tr>\n",
       "    <tr>\n",
       "      <th>3</th>\n",
       "      <td>120.088959</td>\n",
       "      <td>100.263748</td>\n",
       "      <td>79.193564</td>\n",
       "      <td>299.546271</td>\n",
       "      <td>108.080063</td>\n",
       "      <td>150.395622</td>\n",
       "      <td>237.580693</td>\n",
       "      <td>496.056378</td>\n",
       "    </tr>\n",
       "    <tr>\n",
       "      <th>4</th>\n",
       "      <td>107.049948</td>\n",
       "      <td>87.287183</td>\n",
       "      <td>66.001422</td>\n",
       "      <td>260.338554</td>\n",
       "      <td>96.344953</td>\n",
       "      <td>130.930775</td>\n",
       "      <td>198.004267</td>\n",
       "      <td>425.279996</td>\n",
       "    </tr>\n",
       "    <tr>\n",
       "      <th>5</th>\n",
       "      <td>106.502926</td>\n",
       "      <td>86.121985</td>\n",
       "      <td>66.075017</td>\n",
       "      <td>258.699927</td>\n",
       "      <td>95.852634</td>\n",
       "      <td>129.182977</td>\n",
       "      <td>198.225050</td>\n",
       "      <td>423.260660</td>\n",
       "    </tr>\n",
       "  </tbody>\n",
       "</table>\n",
       "</div>"
      ],
      "text/plain": [
       "   Tamaño chico verde  Tamaño mediano verde  Tamaño grande verde   Total dia  \\\n",
       "1          134.402013            114.344725            93.447123  342.193861   \n",
       "2          133.688398            112.898788            92.836195  339.423381   \n",
       "3          120.088959            100.263748            79.193564  299.546271   \n",
       "4          107.049948             87.287183            66.001422  260.338554   \n",
       "5          106.502926             86.121985            66.075017  258.699927   \n",
       "\n",
       "   Produccion chico  Produccion mediano  Produccion grande  Litros totales  \n",
       "1        120.961812          171.517087         280.341370      572.820269  \n",
       "2        120.319558          169.348183         278.508585      568.176326  \n",
       "3        108.080063          150.395622         237.580693      496.056378  \n",
       "4         96.344953          130.930775         198.004267      425.279996  \n",
       "5         95.852634          129.182977         198.225050      423.260660  "
      ]
     },
     "execution_count": 91,
     "metadata": {},
     "output_type": "execute_result"
    }
   ],
   "source": [
    "salsa_verde"
   ]
  },
  {
   "cell_type": "code",
   "execution_count": 92,
   "metadata": {
    "colab": {
     "base_uri": "https://localhost:8080/",
     "height": 206
    },
    "id": "71CWnfDonlHl",
    "outputId": "e740d062-f711-4716-d1a5-79dbd9322ecd"
   },
   "outputs": [
    {
     "data": {
      "text/html": [
       "<div>\n",
       "<style scoped>\n",
       "    .dataframe tbody tr th:only-of-type {\n",
       "        vertical-align: middle;\n",
       "    }\n",
       "\n",
       "    .dataframe tbody tr th {\n",
       "        vertical-align: top;\n",
       "    }\n",
       "\n",
       "    .dataframe thead th {\n",
       "        text-align: right;\n",
       "    }\n",
       "</style>\n",
       "<table border=\"1\" class=\"dataframe\">\n",
       "  <thead>\n",
       "    <tr style=\"text-align: right;\">\n",
       "      <th></th>\n",
       "      <th>Herramental 1</th>\n",
       "      <th>Herramental 2</th>\n",
       "    </tr>\n",
       "  </thead>\n",
       "  <tbody>\n",
       "    <tr>\n",
       "      <th>1</th>\n",
       "      <td>9.959487</td>\n",
       "      <td>9.980573</td>\n",
       "    </tr>\n",
       "    <tr>\n",
       "      <th>2</th>\n",
       "      <td>9.939039</td>\n",
       "      <td>10.060609</td>\n",
       "    </tr>\n",
       "    <tr>\n",
       "      <th>3</th>\n",
       "      <td>9.800657</td>\n",
       "      <td>10.080433</td>\n",
       "    </tr>\n",
       "    <tr>\n",
       "      <th>4</th>\n",
       "      <td>10.078458</td>\n",
       "      <td>9.932903</td>\n",
       "    </tr>\n",
       "    <tr>\n",
       "      <th>5</th>\n",
       "      <td>10.279203</td>\n",
       "      <td>10.113108</td>\n",
       "    </tr>\n",
       "  </tbody>\n",
       "</table>\n",
       "</div>"
      ],
      "text/plain": [
       "   Herramental 1  Herramental 2\n",
       "1       9.959487       9.980573\n",
       "2       9.939039      10.060609\n",
       "3       9.800657      10.080433\n",
       "4      10.078458       9.932903\n",
       "5      10.279203      10.113108"
      ]
     },
     "execution_count": 92,
     "metadata": {},
     "output_type": "execute_result"
    }
   ],
   "source": [
    "df3"
   ]
  },
  {
   "cell_type": "code",
   "execution_count": 93,
   "metadata": {
    "colab": {
     "base_uri": "https://localhost:8080/",
     "height": 206
    },
    "id": "OXXt0iSan0iN",
    "outputId": "5f38ee13-59e0-4c78-b71c-39050bf5795e"
   },
   "outputs": [
    {
     "data": {
      "text/html": [
       "<div>\n",
       "<style scoped>\n",
       "    .dataframe tbody tr th:only-of-type {\n",
       "        vertical-align: middle;\n",
       "    }\n",
       "\n",
       "    .dataframe tbody tr th {\n",
       "        vertical-align: top;\n",
       "    }\n",
       "\n",
       "    .dataframe thead th {\n",
       "        text-align: right;\n",
       "    }\n",
       "</style>\n",
       "<table border=\"1\" class=\"dataframe\">\n",
       "  <thead>\n",
       "    <tr style=\"text-align: right;\">\n",
       "      <th></th>\n",
       "      <th>Herramental 1</th>\n",
       "      <th>Herramental 2</th>\n",
       "    </tr>\n",
       "  </thead>\n",
       "  <tbody>\n",
       "    <tr>\n",
       "      <th>1</th>\n",
       "      <td>9.959487</td>\n",
       "      <td>9.980573</td>\n",
       "    </tr>\n",
       "    <tr>\n",
       "      <th>2</th>\n",
       "      <td>9.939039</td>\n",
       "      <td>10.060609</td>\n",
       "    </tr>\n",
       "    <tr>\n",
       "      <th>3</th>\n",
       "      <td>9.800657</td>\n",
       "      <td>10.080433</td>\n",
       "    </tr>\n",
       "    <tr>\n",
       "      <th>4</th>\n",
       "      <td>10.078458</td>\n",
       "      <td>9.932903</td>\n",
       "    </tr>\n",
       "    <tr>\n",
       "      <th>5</th>\n",
       "      <td>10.279203</td>\n",
       "      <td>10.113108</td>\n",
       "    </tr>\n",
       "  </tbody>\n",
       "</table>\n",
       "</div>"
      ],
      "text/plain": [
       "   Herramental 1  Herramental 2\n",
       "1       9.959487       9.980573\n",
       "2       9.939039      10.060609\n",
       "3       9.800657      10.080433\n",
       "4      10.078458       9.932903\n",
       "5      10.279203      10.113108"
      ]
     },
     "execution_count": 93,
     "metadata": {},
     "output_type": "execute_result"
    }
   ],
   "source": [
    "df3"
   ]
  },
  {
   "cell_type": "code",
   "execution_count": 94,
   "metadata": {
    "colab": {
     "base_uri": "https://localhost:8080/",
     "height": 206
    },
    "id": "Yhfp-wRzoHzi",
    "outputId": "063346f2-a5c7-4a96-c4fb-3e88291a7143"
   },
   "outputs": [
    {
     "data": {
      "text/html": [
       "<div>\n",
       "<style scoped>\n",
       "    .dataframe tbody tr th:only-of-type {\n",
       "        vertical-align: middle;\n",
       "    }\n",
       "\n",
       "    .dataframe tbody tr th {\n",
       "        vertical-align: top;\n",
       "    }\n",
       "\n",
       "    .dataframe thead th {\n",
       "        text-align: right;\n",
       "    }\n",
       "</style>\n",
       "<table border=\"1\" class=\"dataframe\">\n",
       "  <thead>\n",
       "    <tr style=\"text-align: right;\">\n",
       "      <th></th>\n",
       "      <th>Herramental 1</th>\n",
       "      <th>Herramental 2</th>\n",
       "    </tr>\n",
       "  </thead>\n",
       "  <tbody>\n",
       "    <tr>\n",
       "      <th>1</th>\n",
       "      <td>9.959487</td>\n",
       "      <td>9.980573</td>\n",
       "    </tr>\n",
       "    <tr>\n",
       "      <th>2</th>\n",
       "      <td>9.939039</td>\n",
       "      <td>10.060609</td>\n",
       "    </tr>\n",
       "    <tr>\n",
       "      <th>3</th>\n",
       "      <td>9.800657</td>\n",
       "      <td>10.080433</td>\n",
       "    </tr>\n",
       "    <tr>\n",
       "      <th>4</th>\n",
       "      <td>10.078458</td>\n",
       "      <td>9.932903</td>\n",
       "    </tr>\n",
       "    <tr>\n",
       "      <th>5</th>\n",
       "      <td>10.279203</td>\n",
       "      <td>10.113108</td>\n",
       "    </tr>\n",
       "  </tbody>\n",
       "</table>\n",
       "</div>"
      ],
      "text/plain": [
       "   Herramental 1  Herramental 2\n",
       "1       9.959487       9.980573\n",
       "2       9.939039      10.060609\n",
       "3       9.800657      10.080433\n",
       "4      10.078458       9.932903\n",
       "5      10.279203      10.113108"
      ]
     },
     "execution_count": 94,
     "metadata": {},
     "output_type": "execute_result"
    }
   ],
   "source": [
    "herramentales"
   ]
  },
  {
   "cell_type": "code",
   "execution_count": 95,
   "metadata": {
    "colab": {
     "base_uri": "https://localhost:8080/",
     "height": 498
    },
    "id": "bnILA-A1hyaE",
    "outputId": "d01059fe-e6ca-4034-cb07-a876a90eb4b1"
   },
   "outputs": [
    {
     "name": "stdout",
     "output_type": "stream",
     "text": [
      "   Proceso  Máquina     Producto    Cantidad Secuencia  Tiempo de proceso  \\\n",
      "0        1        1  Salsa verde  496.056378       1.1               2.41   \n",
      "1        1        2  Salsa verde  496.056378       1.2               1.96   \n",
      "2        1        3  Salsa verde  496.056378       1.3               2.73   \n",
      "3        2        1   Salsa roja   83.051024       2.1               0.61   \n",
      "4        2        2   Salsa roja   83.051024       2.2               0.54   \n",
      "5        2        3   Salsa roja   83.051024       2.3               0.67   \n",
      "\n",
      "   Tiempo entre procesos Hora Inicio Hora Fin  \n",
      "0                      0       11:26    13:50  \n",
      "1                      1       13:50    15:48  \n",
      "2                      2       15:48    18:32  \n",
      "3                      0       17:23    17:60  \n",
      "4                      1       17:60    18:32  \n",
      "5                      2       18:32    19:12  \n"
     ]
    },
    {
     "data": {
      "text/html": [
       "<div>\n",
       "<style scoped>\n",
       "    .dataframe tbody tr th:only-of-type {\n",
       "        vertical-align: middle;\n",
       "    }\n",
       "\n",
       "    .dataframe tbody tr th {\n",
       "        vertical-align: top;\n",
       "    }\n",
       "\n",
       "    .dataframe thead th {\n",
       "        text-align: right;\n",
       "    }\n",
       "</style>\n",
       "<table border=\"1\" class=\"dataframe\">\n",
       "  <thead>\n",
       "    <tr style=\"text-align: right;\">\n",
       "      <th></th>\n",
       "      <th>Proceso</th>\n",
       "      <th>Máquina</th>\n",
       "      <th>Producto</th>\n",
       "      <th>Cantidad</th>\n",
       "      <th>Secuencia</th>\n",
       "      <th>Tiempo de proceso</th>\n",
       "      <th>Tiempo entre procesos</th>\n",
       "      <th>Hora Inicio</th>\n",
       "      <th>Hora Fin</th>\n",
       "    </tr>\n",
       "  </thead>\n",
       "  <tbody>\n",
       "    <tr>\n",
       "      <th>0</th>\n",
       "      <td>1</td>\n",
       "      <td>1</td>\n",
       "      <td>Salsa verde</td>\n",
       "      <td>496.056378</td>\n",
       "      <td>1.1</td>\n",
       "      <td>2.41</td>\n",
       "      <td>0</td>\n",
       "      <td>11:26</td>\n",
       "      <td>13:50</td>\n",
       "    </tr>\n",
       "    <tr>\n",
       "      <th>1</th>\n",
       "      <td>1</td>\n",
       "      <td>2</td>\n",
       "      <td>Salsa verde</td>\n",
       "      <td>496.056378</td>\n",
       "      <td>1.2</td>\n",
       "      <td>1.96</td>\n",
       "      <td>1</td>\n",
       "      <td>13:50</td>\n",
       "      <td>15:48</td>\n",
       "    </tr>\n",
       "    <tr>\n",
       "      <th>2</th>\n",
       "      <td>1</td>\n",
       "      <td>3</td>\n",
       "      <td>Salsa verde</td>\n",
       "      <td>496.056378</td>\n",
       "      <td>1.3</td>\n",
       "      <td>2.73</td>\n",
       "      <td>2</td>\n",
       "      <td>15:48</td>\n",
       "      <td>18:32</td>\n",
       "    </tr>\n",
       "    <tr>\n",
       "      <th>3</th>\n",
       "      <td>2</td>\n",
       "      <td>1</td>\n",
       "      <td>Salsa roja</td>\n",
       "      <td>83.051024</td>\n",
       "      <td>2.1</td>\n",
       "      <td>0.61</td>\n",
       "      <td>0</td>\n",
       "      <td>17:23</td>\n",
       "      <td>17:60</td>\n",
       "    </tr>\n",
       "    <tr>\n",
       "      <th>4</th>\n",
       "      <td>2</td>\n",
       "      <td>2</td>\n",
       "      <td>Salsa roja</td>\n",
       "      <td>83.051024</td>\n",
       "      <td>2.2</td>\n",
       "      <td>0.54</td>\n",
       "      <td>1</td>\n",
       "      <td>17:60</td>\n",
       "      <td>18:32</td>\n",
       "    </tr>\n",
       "    <tr>\n",
       "      <th>5</th>\n",
       "      <td>2</td>\n",
       "      <td>3</td>\n",
       "      <td>Salsa roja</td>\n",
       "      <td>83.051024</td>\n",
       "      <td>2.3</td>\n",
       "      <td>0.67</td>\n",
       "      <td>2</td>\n",
       "      <td>18:32</td>\n",
       "      <td>19:12</td>\n",
       "    </tr>\n",
       "  </tbody>\n",
       "</table>\n",
       "</div>"
      ],
      "text/plain": [
       "   Proceso  Máquina     Producto    Cantidad Secuencia  Tiempo de proceso  \\\n",
       "0        1        1  Salsa verde  496.056378       1.1               2.41   \n",
       "1        1        2  Salsa verde  496.056378       1.2               1.96   \n",
       "2        1        3  Salsa verde  496.056378       1.3               2.73   \n",
       "3        2        1   Salsa roja   83.051024       2.1               0.61   \n",
       "4        2        2   Salsa roja   83.051024       2.2               0.54   \n",
       "5        2        3   Salsa roja   83.051024       2.3               0.67   \n",
       "\n",
       "   Tiempo entre procesos Hora Inicio Hora Fin  \n",
       "0                      0       11:26    13:50  \n",
       "1                      1       13:50    15:48  \n",
       "2                      2       15:48    18:32  \n",
       "3                      0       17:23    17:60  \n",
       "4                      1       17:60    18:32  \n",
       "5                      2       18:32    19:12  "
      ]
     },
     "execution_count": 95,
     "metadata": {},
     "output_type": "execute_result"
    }
   ],
   "source": [
    "import pandas as pd\n",
    "from datetime import timedelta\n",
    "\n",
    "def calcular_secuenciacion_por_dia(dia, df3, salsa_verde, salsa_roja, herramentales, rM1, rM2, rM3, u):\n",
    "    def convertir_horas(horas_decimal):\n",
    "        \"\"\"Convierte un valor de horas en formato decimal a una cadena 'HH:MM'.\"\"\"\n",
    "        horas = int(horas_decimal)\n",
    "        minutos = int(round((horas_decimal - horas) * 60))\n",
    "        return f\"{horas:02d}:{minutos:02d}\"\n",
    "\n",
    "    def calcular_hora_real(horas_decimal):\n",
    "        \"\"\"Convierte el tiempo en formato decimal al reloj considerando el inicio del turno a las 6:00 am.\"\"\"\n",
    "        horas_base = 6  # El turno empieza a las 6:00 am\n",
    "        tiempo_total = horas_base + horas_decimal\n",
    "        return convertir_horas(tiempo_total)\n",
    "\n",
    "    def secuenciar_salsa(salsa_actual, nombre_salsa, hora_herramental, proceso_actual, machine_available_times):\n",
    "        demanda = salsa_actual.loc[dia, 'Litros totales']  # Usar `dia` directamente\n",
    "        xL = ((rM1 * rM2) * (hora_herramental - 2 * u)) / (rM1 + rM2)\n",
    "        xL = min(xL, demanda)\n",
    "        hora_inicial= 6\n",
    "        prod_M1 = (xL / rM1) + u\n",
    "        prod_M2 = (xL / rM2) + u\n",
    "        prod_M3 = (xL / rM3) + u\n",
    "\n",
    "        # Asignar tiempo de inicio y fin para cada máquina considerando disponibilidad\n",
    "        # Máquina 1\n",
    "        h_inicio_M3 = hora_herramental\n",
    "        hora_inicio_M1 = h_inicio_M3 - (prod_M1 + prod_M2)\n",
    "\n",
    "        # Validar horas\n",
    "        if hora_inicio_M1 + prod_M1 + prod_M2 + prod_M3 > 18:\n",
    "            raise ValueError(f\"Proceso {proceso_actual} excede el turno laboral.\")\n",
    "\n",
    "        hora_fin_M1 = hora_inicio_M1 + prod_M1\n",
    "        hora_fin_M2 = hora_fin_M1 + prod_M2\n",
    "        hora_fin_M3 = hora_fin_M2 + prod_M3\n",
    "\n",
    "        # Agregar secuencia a DataFrame\n",
    "        secuencias.append({\n",
    "            \"Proceso\": proceso_actual,\n",
    "            \"Máquina\": 1,\n",
    "            \"Producto\": f\"Salsa {nombre_salsa}\",\n",
    "            \"Cantidad\": xL,\n",
    "            \"Secuencia\": f\"{proceso_actual}.1\",\n",
    "            \"Tiempo de proceso\": round(prod_M1, 2),\n",
    "            \"Tiempo entre procesos\": 0,\n",
    "            \"Hora Inicio\": calcular_hora_real(hora_inicio_M1),\n",
    "            \"Hora Fin\": calcular_hora_real(hora_fin_M1),\n",
    "        })\n",
    "        secuencias.append({\n",
    "            \"Proceso\": proceso_actual,\n",
    "            \"Máquina\": 2,\n",
    "            \"Producto\": f\"Salsa {nombre_salsa}\",\n",
    "            \"Cantidad\": xL,\n",
    "            \"Secuencia\": f\"{proceso_actual}.2\",\n",
    "            \"Tiempo de proceso\": round(prod_M2, 2),\n",
    "            \"Tiempo entre procesos\": 1,\n",
    "            \"Hora Inicio\": calcular_hora_real(hora_fin_M1),\n",
    "            \"Hora Fin\": calcular_hora_real(hora_fin_M2),\n",
    "        })\n",
    "        secuencias.append({\n",
    "            \"Proceso\": proceso_actual,\n",
    "            \"Máquina\": 3,\n",
    "            \"Producto\": f\"Salsa {nombre_salsa}\",\n",
    "            \"Cantidad\": xL,\n",
    "            \"Secuencia\": f\"{proceso_actual}.3\",\n",
    "            \"Tiempo de proceso\": round(prod_M3, 2),\n",
    "            \"Tiempo entre procesos\": 2,\n",
    "            \"Hora Inicio\": calcular_hora_real(h_inicio_M3),\n",
    "            \"Hora Fin\": calcular_hora_real(hora_fin_M3),\n",
    "        })\n",
    "        return hora_fin_M3\n",
    "\n",
    "    # Validar que el día está en el índice\n",
    "    if dia not in df3.index:\n",
    "        raise ValueError(f\"El día {dia} no está disponible en los datos.\")\n",
    "\n",
    "    # Determinar el herramental que llega primero\n",
    "    herramental_dia = df3.loc[dia]  # Usar `dia` directamente\n",
    "    if herramental_dia['Herramental 1'] <= herramental_dia['Herramental 2']:\n",
    "        salsa_inicial = (\"verde\", salsa_verde, herramental_dia['Herramental 1'])\n",
    "        salsa_posterior = (\"roja\", salsa_roja, herramental_dia['Herramental 2'])\n",
    "    else:\n",
    "        salsa_inicial = (\"roja\", salsa_roja, herramental_dia['Herramental 2'])\n",
    "        salsa_posterior = (\"verde\", salsa_verde, herramental_dia['Herramental 1'])\n",
    "\n",
    "    secuencias = []  # Lista para las secuencias\n",
    "    proceso_actual = 1\n",
    "\n",
    "    # Inicializar disponibilidad de las máquinas a las 6:00 am\n",
    "    machine_available_times = {1: 6.0, 2: 6.0, 3: 6.0}\n",
    "\n",
    "    # Secuenciar la primera salsa\n",
    "    nombre, salsa_actual, hora_herramental = salsa_inicial\n",
    "    hora_fin = secuenciar_salsa(\n",
    "        salsa_actual,\n",
    "        nombre,\n",
    "        hora_herramental,\n",
    "        proceso_actual,\n",
    "        machine_available_times\n",
    "    )\n",
    "\n",
    "    # Secuenciar la segunda salsa si el tiempo lo permite\n",
    "    if hora_fin < 18.0:\n",
    "        proceso_actual += 1\n",
    "        nombre_p, salsa_actual_p, hora_herramental_p = salsa_posterior\n",
    "        # El inicio de la segunda salsa debe ser después de que la primera termine o la llegada del herramental\n",
    "        start_time_p = max(hora_fin, hora_herramental_p)\n",
    "        hora_fin_p = secuenciar_salsa(\n",
    "            salsa_actual_p,\n",
    "            nombre_p,\n",
    "            start_time_p,\n",
    "            proceso_actual,\n",
    "            machine_available_times\n",
    "        )\n",
    "\n",
    "    # Crear el DataFrame de secuencias\n",
    "    df_secuencias = pd.DataFrame(secuencias)\n",
    "    print(df_secuencias)\n",
    "    return df_secuencias\n",
    "\n",
    "# Ejemplo de llamada a la función\n",
    "# Asegúrate de tener los DataFrames df3, salsa_verde, salsa_roja, herramentales definidos correctamente\n",
    "# y las variables rM1, rM2, rM3, u asignadas antes de llamar a la función.\n",
    "\n",
    "# dia = 1  # Cambiar el día para probar con distintos datos\n",
    "# df = calcular_secuenciacion_por_dia(dia, df3, salsa_verde, salsa_roja, herramentales, rM1, rM2, rM3, u)\n",
    "# print(df)\n",
    "\n",
    "\n",
    "# Ejemplo de llamada a la función\n",
    "dia = 3  # Cambiar el día para probar con distintos datos\n",
    "df=calcular_secuenciacion_por_dia(dia, df3, salsa_verde, salsa_roja, herramentales, rM1, rM2, rM3, u)\n",
    "df"
   ]
  },
  {
   "cell_type": "code",
   "execution_count": 96,
   "metadata": {
    "colab": {
     "base_uri": "https://localhost:8080/",
     "height": 237
    },
    "id": "_ikzalrBqjZO",
    "outputId": "c40ed284-e807-4006-92db-3f5649bc7c91"
   },
   "outputs": [
    {
     "data": {
      "text/html": [
       "<div>\n",
       "<style scoped>\n",
       "    .dataframe tbody tr th:only-of-type {\n",
       "        vertical-align: middle;\n",
       "    }\n",
       "\n",
       "    .dataframe tbody tr th {\n",
       "        vertical-align: top;\n",
       "    }\n",
       "\n",
       "    .dataframe thead th {\n",
       "        text-align: right;\n",
       "    }\n",
       "</style>\n",
       "<table border=\"1\" class=\"dataframe\">\n",
       "  <thead>\n",
       "    <tr style=\"text-align: right;\">\n",
       "      <th></th>\n",
       "      <th>Herramental 1</th>\n",
       "      <th>Herramental 2</th>\n",
       "    </tr>\n",
       "  </thead>\n",
       "  <tbody>\n",
       "    <tr>\n",
       "      <th>1</th>\n",
       "      <td>9.959487</td>\n",
       "      <td>9.980573</td>\n",
       "    </tr>\n",
       "    <tr>\n",
       "      <th>2</th>\n",
       "      <td>9.939039</td>\n",
       "      <td>10.060609</td>\n",
       "    </tr>\n",
       "    <tr>\n",
       "      <th>3</th>\n",
       "      <td>9.800657</td>\n",
       "      <td>10.080433</td>\n",
       "    </tr>\n",
       "    <tr>\n",
       "      <th>4</th>\n",
       "      <td>10.078458</td>\n",
       "      <td>9.932903</td>\n",
       "    </tr>\n",
       "    <tr>\n",
       "      <th>5</th>\n",
       "      <td>10.279203</td>\n",
       "      <td>10.113108</td>\n",
       "    </tr>\n",
       "  </tbody>\n",
       "</table>\n",
       "</div>"
      ],
      "text/plain": [
       "   Herramental 1  Herramental 2\n",
       "1       9.959487       9.980573\n",
       "2       9.939039      10.060609\n",
       "3       9.800657      10.080433\n",
       "4      10.078458       9.932903\n",
       "5      10.279203      10.113108"
      ]
     },
     "execution_count": 96,
     "metadata": {},
     "output_type": "execute_result"
    }
   ],
   "source": [
    "df3"
   ]
  },
  {
   "cell_type": "code",
   "execution_count": 97,
   "metadata": {
    "colab": {
     "base_uri": "https://localhost:8080/"
    },
    "id": "XD7DrEraqFRO",
    "outputId": "e4caa2c1-44ef-447e-8eec-842d923fb5ca"
   },
   "outputs": [
    {
     "name": "stdout",
     "output_type": "stream",
     "text": [
      "Error en fila 2:\n",
      "  Proceso: 1, Máquina: 3\n",
      "  Hora Inicio: 15:48 (decimal: 15.8)\n",
      "  Hora Fin: 18:32 (decimal: 18.533333333333335)\n",
      "Error en fila 4:\n",
      "  Proceso: 2, Máquina: 2\n",
      "  Hora Inicio: 17:60 (decimal: 18.0)\n",
      "  Hora Fin: 18:32 (decimal: 18.533333333333335)\n",
      "Error en fila 5:\n",
      "  Proceso: 2, Máquina: 3\n",
      "  Hora Inicio: 18:32 (decimal: 18.533333333333335)\n",
      "  Hora Fin: 19:12 (decimal: 19.2)\n"
     ]
    }
   ],
   "source": [
    "import pandas as pd\n",
    "\n",
    "# Suponiendo que el DataFrame es df_secuencias\n",
    "# Convertir horas a formato decimal para comparar\n",
    "def convertir_a_decimal(hora_str):\n",
    "    \"\"\"Convierte una hora en formato 'HH:MM' a formato decimal.\"\"\"\n",
    "    if \":\" not in hora_str:\n",
    "        return None  # Si no es una hora válida, devolver None\n",
    "    horas, minutos = map(int, hora_str.split(\":\"))\n",
    "    return horas + minutos / 60\n",
    "\n",
    "# Agregar columnas auxiliares con las horas en formato decimal\n",
    "df['Hora Inicio Decimal'] = df['Hora Inicio'].apply(convertir_a_decimal)\n",
    "df['Hora Fin Decimal'] = df['Hora Fin'].apply(convertir_a_decimal)\n",
    "\n",
    "# Rango permitido (de 6:00 a 18:00 horas)\n",
    "hora_inicio_turno = 6\n",
    "hora_fin_turno = 18\n",
    "\n",
    "# Identificar filas fuera del rango\n",
    "for index, row in df.iterrows():\n",
    "    if row['Hora Inicio Decimal'] > hora_fin_turno or row['Hora Fin Decimal'] > hora_fin_turno:\n",
    "        print(f\"Error en fila {index}:\")\n",
    "        print(f\"  Proceso: {row['Proceso']}, Máquina: {row['Máquina']}\")\n",
    "        print(f\"  Hora Inicio: {row['Hora Inicio']} (decimal: {row['Hora Inicio Decimal']})\")\n",
    "        print(f\"  Hora Fin: {row['Hora Fin']} (decimal: {row['Hora Fin Decimal']})\")\n"
   ]
  },
  {
   "cell_type": "code",
   "execution_count": 98,
   "metadata": {
    "colab": {
     "base_uri": "https://localhost:8080/",
     "height": 206
    },
    "id": "OHfcPWyEf3gM",
    "outputId": "ec8128cc-72c5-4df6-c951-0cc730e87c16"
   },
   "outputs": [
    {
     "data": {
      "text/html": [
       "<div>\n",
       "<style scoped>\n",
       "    .dataframe tbody tr th:only-of-type {\n",
       "        vertical-align: middle;\n",
       "    }\n",
       "\n",
       "    .dataframe tbody tr th {\n",
       "        vertical-align: top;\n",
       "    }\n",
       "\n",
       "    .dataframe thead th {\n",
       "        text-align: right;\n",
       "    }\n",
       "</style>\n",
       "<table border=\"1\" class=\"dataframe\">\n",
       "  <thead>\n",
       "    <tr style=\"text-align: right;\">\n",
       "      <th></th>\n",
       "      <th>Proceso</th>\n",
       "      <th>Máquina</th>\n",
       "      <th>Producto</th>\n",
       "      <th>Cantidad</th>\n",
       "      <th>Secuencia</th>\n",
       "      <th>Tiempo de proceso</th>\n",
       "      <th>Tiempo entre procesos</th>\n",
       "      <th>Hora Inicio</th>\n",
       "      <th>Hora Fin</th>\n",
       "      <th>Hora Inicio Decimal</th>\n",
       "      <th>Hora Fin Decimal</th>\n",
       "    </tr>\n",
       "  </thead>\n",
       "  <tbody>\n",
       "    <tr>\n",
       "      <th>0</th>\n",
       "      <td>1</td>\n",
       "      <td>1</td>\n",
       "      <td>Salsa verde</td>\n",
       "      <td>496.056378</td>\n",
       "      <td>1.1</td>\n",
       "      <td>2.41</td>\n",
       "      <td>0</td>\n",
       "      <td>11:26</td>\n",
       "      <td>13:50</td>\n",
       "      <td>11.433333</td>\n",
       "      <td>13.833333</td>\n",
       "    </tr>\n",
       "    <tr>\n",
       "      <th>1</th>\n",
       "      <td>1</td>\n",
       "      <td>2</td>\n",
       "      <td>Salsa verde</td>\n",
       "      <td>496.056378</td>\n",
       "      <td>1.2</td>\n",
       "      <td>1.96</td>\n",
       "      <td>1</td>\n",
       "      <td>13:50</td>\n",
       "      <td>15:48</td>\n",
       "      <td>13.833333</td>\n",
       "      <td>15.800000</td>\n",
       "    </tr>\n",
       "    <tr>\n",
       "      <th>2</th>\n",
       "      <td>1</td>\n",
       "      <td>3</td>\n",
       "      <td>Salsa verde</td>\n",
       "      <td>496.056378</td>\n",
       "      <td>1.3</td>\n",
       "      <td>2.73</td>\n",
       "      <td>2</td>\n",
       "      <td>15:48</td>\n",
       "      <td>18:32</td>\n",
       "      <td>15.800000</td>\n",
       "      <td>18.533333</td>\n",
       "    </tr>\n",
       "    <tr>\n",
       "      <th>3</th>\n",
       "      <td>2</td>\n",
       "      <td>1</td>\n",
       "      <td>Salsa roja</td>\n",
       "      <td>83.051024</td>\n",
       "      <td>2.1</td>\n",
       "      <td>0.61</td>\n",
       "      <td>0</td>\n",
       "      <td>17:23</td>\n",
       "      <td>17:60</td>\n",
       "      <td>17.383333</td>\n",
       "      <td>18.000000</td>\n",
       "    </tr>\n",
       "    <tr>\n",
       "      <th>4</th>\n",
       "      <td>2</td>\n",
       "      <td>2</td>\n",
       "      <td>Salsa roja</td>\n",
       "      <td>83.051024</td>\n",
       "      <td>2.2</td>\n",
       "      <td>0.54</td>\n",
       "      <td>1</td>\n",
       "      <td>17:60</td>\n",
       "      <td>18:32</td>\n",
       "      <td>18.000000</td>\n",
       "      <td>18.533333</td>\n",
       "    </tr>\n",
       "    <tr>\n",
       "      <th>5</th>\n",
       "      <td>2</td>\n",
       "      <td>3</td>\n",
       "      <td>Salsa roja</td>\n",
       "      <td>83.051024</td>\n",
       "      <td>2.3</td>\n",
       "      <td>0.67</td>\n",
       "      <td>2</td>\n",
       "      <td>18:32</td>\n",
       "      <td>19:12</td>\n",
       "      <td>18.533333</td>\n",
       "      <td>19.200000</td>\n",
       "    </tr>\n",
       "  </tbody>\n",
       "</table>\n",
       "</div>"
      ],
      "text/plain": [
       "   Proceso  Máquina     Producto    Cantidad Secuencia  Tiempo de proceso  \\\n",
       "0        1        1  Salsa verde  496.056378       1.1               2.41   \n",
       "1        1        2  Salsa verde  496.056378       1.2               1.96   \n",
       "2        1        3  Salsa verde  496.056378       1.3               2.73   \n",
       "3        2        1   Salsa roja   83.051024       2.1               0.61   \n",
       "4        2        2   Salsa roja   83.051024       2.2               0.54   \n",
       "5        2        3   Salsa roja   83.051024       2.3               0.67   \n",
       "\n",
       "   Tiempo entre procesos Hora Inicio Hora Fin  Hora Inicio Decimal  \\\n",
       "0                      0       11:26    13:50            11.433333   \n",
       "1                      1       13:50    15:48            13.833333   \n",
       "2                      2       15:48    18:32            15.800000   \n",
       "3                      0       17:23    17:60            17.383333   \n",
       "4                      1       17:60    18:32            18.000000   \n",
       "5                      2       18:32    19:12            18.533333   \n",
       "\n",
       "   Hora Fin Decimal  \n",
       "0         13.833333  \n",
       "1         15.800000  \n",
       "2         18.533333  \n",
       "3         18.000000  \n",
       "4         18.533333  \n",
       "5         19.200000  "
      ]
     },
     "execution_count": 98,
     "metadata": {},
     "output_type": "execute_result"
    }
   ],
   "source": [
    "df"
   ]
  }
 ],
 "metadata": {
  "colab": {
   "provenance": []
  },
  "kernelspec": {
   "display_name": "base",
   "language": "python",
   "name": "python3"
  },
  "language_info": {
   "codemirror_mode": {
    "name": "ipython",
    "version": 3
   },
   "file_extension": ".py",
   "mimetype": "text/x-python",
   "name": "python",
   "nbconvert_exporter": "python",
   "pygments_lexer": "ipython3",
   "version": "3.10.9"
  }
 },
 "nbformat": 4,
 "nbformat_minor": 0
}
